{
 "cells": [
  {
   "cell_type": "markdown",
   "id": "99f13429",
   "metadata": {},
   "source": [
    "#  AirBnB IronHack - Predict AirBnB price in Amsterdam"
   ]
  },
  {
   "cell_type": "code",
   "execution_count": 1,
   "id": "2a133627",
   "metadata": {},
   "outputs": [],
   "source": [
    "%matplotlib inline\n",
    "import seaborn as sns\n",
    "import pandas as pd\n",
    "import numpy as np\n",
    "import pylab as plt\n",
    "import warnings\n",
    "warnings.simplefilter('ignore')\n",
    "pd.set_option('display.max_columns', None)\n",
    "from sklearn.linear_model import LinearRegression as LinReg\n",
    "from sklearn.metrics import r2_score, mean_squared_error \n",
    "from sklearn.ensemble import RandomForestClassifier as RFC\n",
    "from sklearn.metrics import accuracy_score as acc\n",
    "from sklearn.metrics import confusion_matrix as cm\n",
    "sns.set(rc={\"figure.figsize\": (12.,6.)})\n",
    "from src.cleaning4 import *"
   ]
  },
  {
   "cell_type": "code",
   "execution_count": 2,
   "id": "160bd4d2",
   "metadata": {},
   "outputs": [
    {
     "data": {
      "text/html": [
       "<div>\n",
       "<style scoped>\n",
       "    .dataframe tbody tr th:only-of-type {\n",
       "        vertical-align: middle;\n",
       "    }\n",
       "\n",
       "    .dataframe tbody tr th {\n",
       "        vertical-align: top;\n",
       "    }\n",
       "\n",
       "    .dataframe thead th {\n",
       "        text-align: right;\n",
       "    }\n",
       "</style>\n",
       "<table border=\"1\" class=\"dataframe\">\n",
       "  <thead>\n",
       "    <tr style=\"text-align: right;\">\n",
       "      <th></th>\n",
       "      <th>id</th>\n",
       "      <th>listing_url</th>\n",
       "      <th>scrape_id</th>\n",
       "      <th>last_scraped</th>\n",
       "      <th>name</th>\n",
       "      <th>description</th>\n",
       "      <th>neighborhood_overview</th>\n",
       "      <th>picture_url</th>\n",
       "      <th>host_id</th>\n",
       "      <th>host_url</th>\n",
       "      <th>host_name</th>\n",
       "      <th>host_since</th>\n",
       "      <th>host_location</th>\n",
       "      <th>host_about</th>\n",
       "      <th>host_response_time</th>\n",
       "      <th>host_response_rate</th>\n",
       "      <th>host_acceptance_rate</th>\n",
       "      <th>host_is_superhost</th>\n",
       "      <th>host_thumbnail_url</th>\n",
       "      <th>host_picture_url</th>\n",
       "      <th>host_neighbourhood</th>\n",
       "      <th>host_listings_count</th>\n",
       "      <th>host_total_listings_count</th>\n",
       "      <th>host_verifications</th>\n",
       "      <th>host_has_profile_pic</th>\n",
       "      <th>host_identity_verified</th>\n",
       "      <th>neighbourhood</th>\n",
       "      <th>neighbourhood_cleansed</th>\n",
       "      <th>neighbourhood_group_cleansed</th>\n",
       "      <th>latitude</th>\n",
       "      <th>longitude</th>\n",
       "      <th>property_type</th>\n",
       "      <th>room_type</th>\n",
       "      <th>accommodates</th>\n",
       "      <th>bathrooms</th>\n",
       "      <th>bathrooms_text</th>\n",
       "      <th>bedrooms</th>\n",
       "      <th>beds</th>\n",
       "      <th>amenities</th>\n",
       "      <th>price</th>\n",
       "      <th>minimum_nights</th>\n",
       "      <th>maximum_nights</th>\n",
       "      <th>minimum_minimum_nights</th>\n",
       "      <th>maximum_minimum_nights</th>\n",
       "      <th>minimum_maximum_nights</th>\n",
       "      <th>maximum_maximum_nights</th>\n",
       "      <th>minimum_nights_avg_ntm</th>\n",
       "      <th>maximum_nights_avg_ntm</th>\n",
       "      <th>calendar_updated</th>\n",
       "      <th>has_availability</th>\n",
       "      <th>availability_30</th>\n",
       "      <th>availability_60</th>\n",
       "      <th>availability_90</th>\n",
       "      <th>availability_365</th>\n",
       "      <th>calendar_last_scraped</th>\n",
       "      <th>number_of_reviews</th>\n",
       "      <th>number_of_reviews_ltm</th>\n",
       "      <th>number_of_reviews_l30d</th>\n",
       "      <th>first_review</th>\n",
       "      <th>last_review</th>\n",
       "      <th>review_scores_rating</th>\n",
       "      <th>review_scores_accuracy</th>\n",
       "      <th>review_scores_cleanliness</th>\n",
       "      <th>review_scores_checkin</th>\n",
       "      <th>review_scores_communication</th>\n",
       "      <th>review_scores_location</th>\n",
       "      <th>review_scores_value</th>\n",
       "      <th>license</th>\n",
       "      <th>instant_bookable</th>\n",
       "      <th>calculated_host_listings_count</th>\n",
       "      <th>calculated_host_listings_count_entire_homes</th>\n",
       "      <th>calculated_host_listings_count_private_rooms</th>\n",
       "      <th>calculated_host_listings_count_shared_rooms</th>\n",
       "      <th>reviews_per_month</th>\n",
       "    </tr>\n",
       "  </thead>\n",
       "  <tbody>\n",
       "    <tr>\n",
       "      <th>0</th>\n",
       "      <td>0</td>\n",
       "      <td>https://www.airbnb.com/rooms/2842228</td>\n",
       "      <td>20211205213126</td>\n",
       "      <td>2021-12-06</td>\n",
       "      <td>Your little appartment on wheels</td>\n",
       "      <td>A waggon luxurous designed as a hotel room on ...</td>\n",
       "      <td>Waterland is a beautiful countryside area, wit...</td>\n",
       "      <td>https://a0.muscache.com/pictures/cc2aa51a-3c11...</td>\n",
       "      <td>3040748</td>\n",
       "      <td>https://www.airbnb.com/users/show/3040748</td>\n",
       "      <td>Henk</td>\n",
       "      <td>2012-07-24</td>\n",
       "      <td>Amsterdam, North Holland, The Netherlands</td>\n",
       "      <td>Living in the countryside, just near Amsterdam...</td>\n",
       "      <td>within a few hours</td>\n",
       "      <td>100%</td>\n",
       "      <td>75%</td>\n",
       "      <td>f</td>\n",
       "      <td>https://a0.muscache.com/im/users/3040748/profi...</td>\n",
       "      <td>https://a0.muscache.com/im/users/3040748/profi...</td>\n",
       "      <td>NaN</td>\n",
       "      <td>13</td>\n",
       "      <td>13</td>\n",
       "      <td>['email', 'phone', 'reviews', 'jumio', 'offlin...</td>\n",
       "      <td>t</td>\n",
       "      <td>t</td>\n",
       "      <td>Amsterdam, North Holland, Netherlands</td>\n",
       "      <td>Noord-Oost</td>\n",
       "      <td>NaN</td>\n",
       "      <td>52.39508</td>\n",
       "      <td>4.99186</td>\n",
       "      <td>Private room in farm stay</td>\n",
       "      <td>Private room</td>\n",
       "      <td>3</td>\n",
       "      <td>NaN</td>\n",
       "      <td>1.5 shared baths</td>\n",
       "      <td>1.0</td>\n",
       "      <td>NaN</td>\n",
       "      <td>[\"First aid kit\", \"Free parking on premises\", ...</td>\n",
       "      <td>87.0</td>\n",
       "      <td>2</td>\n",
       "      <td>1125</td>\n",
       "      <td>2.0</td>\n",
       "      <td>2.0</td>\n",
       "      <td>1125.0</td>\n",
       "      <td>1125.0</td>\n",
       "      <td>2.0</td>\n",
       "      <td>1125.0</td>\n",
       "      <td>NaN</td>\n",
       "      <td>t</td>\n",
       "      <td>0</td>\n",
       "      <td>0</td>\n",
       "      <td>0</td>\n",
       "      <td>249</td>\n",
       "      <td>2021-12-06</td>\n",
       "      <td>81</td>\n",
       "      <td>0</td>\n",
       "      <td>0</td>\n",
       "      <td>2014-08-03</td>\n",
       "      <td>2019-06-15</td>\n",
       "      <td>4.62</td>\n",
       "      <td>4.56</td>\n",
       "      <td>4.29</td>\n",
       "      <td>4.57</td>\n",
       "      <td>4.75</td>\n",
       "      <td>4.69</td>\n",
       "      <td>4.49</td>\n",
       "      <td>0363 2A6D 7C09 877D 715F</td>\n",
       "      <td>f</td>\n",
       "      <td>10</td>\n",
       "      <td>0</td>\n",
       "      <td>10</td>\n",
       "      <td>0</td>\n",
       "      <td>0.91</td>\n",
       "    </tr>\n",
       "    <tr>\n",
       "      <th>1</th>\n",
       "      <td>1</td>\n",
       "      <td>https://www.airbnb.com/rooms/41236669</td>\n",
       "      <td>20211205213126</td>\n",
       "      <td>2021-12-06</td>\n",
       "      <td>Spacious 4p city center apartment (2 bedrooms!)</td>\n",
       "      <td>Are you looking for a perfect place to stay in...</td>\n",
       "      <td>Our home is located in the Plantagebuurt. A un...</td>\n",
       "      <td>https://a0.muscache.com/pictures/5f33bf5a-399c...</td>\n",
       "      <td>34773624</td>\n",
       "      <td>https://www.airbnb.com/users/show/34773624</td>\n",
       "      <td>Julie</td>\n",
       "      <td>2015-06-01</td>\n",
       "      <td>Amsterdam, Noord-Holland, Netherlands</td>\n",
       "      <td>NaN</td>\n",
       "      <td>NaN</td>\n",
       "      <td>NaN</td>\n",
       "      <td>NaN</td>\n",
       "      <td>f</td>\n",
       "      <td>https://a0.muscache.com/im/pictures/user/a5da3...</td>\n",
       "      <td>https://a0.muscache.com/im/pictures/user/a5da3...</td>\n",
       "      <td>Weesperbuurt en Plantage</td>\n",
       "      <td>0</td>\n",
       "      <td>0</td>\n",
       "      <td>['email', 'phone', 'reviews']</td>\n",
       "      <td>t</td>\n",
       "      <td>f</td>\n",
       "      <td>Amsterdam, Noord-Holland, Netherlands</td>\n",
       "      <td>Centrum-Oost</td>\n",
       "      <td>NaN</td>\n",
       "      <td>52.36371</td>\n",
       "      <td>4.90745</td>\n",
       "      <td>Entire rental unit</td>\n",
       "      <td>Entire home/apt</td>\n",
       "      <td>4</td>\n",
       "      <td>NaN</td>\n",
       "      <td>1 bath</td>\n",
       "      <td>2.0</td>\n",
       "      <td>2.0</td>\n",
       "      <td>[\"Hot water kettle\", \"Pocket wifi\", \"Stove\", \"...</td>\n",
       "      <td>250.0</td>\n",
       "      <td>2</td>\n",
       "      <td>1125</td>\n",
       "      <td>2.0</td>\n",
       "      <td>2.0</td>\n",
       "      <td>1125.0</td>\n",
       "      <td>1125.0</td>\n",
       "      <td>2.0</td>\n",
       "      <td>1125.0</td>\n",
       "      <td>NaN</td>\n",
       "      <td>t</td>\n",
       "      <td>3</td>\n",
       "      <td>3</td>\n",
       "      <td>3</td>\n",
       "      <td>3</td>\n",
       "      <td>2021-12-06</td>\n",
       "      <td>9</td>\n",
       "      <td>4</td>\n",
       "      <td>1</td>\n",
       "      <td>2020-01-26</td>\n",
       "      <td>2021-09-05</td>\n",
       "      <td>5.00</td>\n",
       "      <td>5.00</td>\n",
       "      <td>5.00</td>\n",
       "      <td>4.89</td>\n",
       "      <td>5.00</td>\n",
       "      <td>5.00</td>\n",
       "      <td>4.89</td>\n",
       "      <td>0363 BD0E 9934 ACCA D3DE</td>\n",
       "      <td>f</td>\n",
       "      <td>1</td>\n",
       "      <td>1</td>\n",
       "      <td>0</td>\n",
       "      <td>0</td>\n",
       "      <td>0.40</td>\n",
       "    </tr>\n",
       "  </tbody>\n",
       "</table>\n",
       "</div>"
      ],
      "text/plain": [
       "   id                            listing_url       scrape_id last_scraped  \\\n",
       "0   0   https://www.airbnb.com/rooms/2842228  20211205213126   2021-12-06   \n",
       "1   1  https://www.airbnb.com/rooms/41236669  20211205213126   2021-12-06   \n",
       "\n",
       "                                              name  \\\n",
       "0                 Your little appartment on wheels   \n",
       "1  Spacious 4p city center apartment (2 bedrooms!)   \n",
       "\n",
       "                                         description  \\\n",
       "0  A waggon luxurous designed as a hotel room on ...   \n",
       "1  Are you looking for a perfect place to stay in...   \n",
       "\n",
       "                               neighborhood_overview  \\\n",
       "0  Waterland is a beautiful countryside area, wit...   \n",
       "1  Our home is located in the Plantagebuurt. A un...   \n",
       "\n",
       "                                         picture_url   host_id  \\\n",
       "0  https://a0.muscache.com/pictures/cc2aa51a-3c11...   3040748   \n",
       "1  https://a0.muscache.com/pictures/5f33bf5a-399c...  34773624   \n",
       "\n",
       "                                     host_url host_name  host_since  \\\n",
       "0   https://www.airbnb.com/users/show/3040748      Henk  2012-07-24   \n",
       "1  https://www.airbnb.com/users/show/34773624     Julie  2015-06-01   \n",
       "\n",
       "                               host_location  \\\n",
       "0  Amsterdam, North Holland, The Netherlands   \n",
       "1      Amsterdam, Noord-Holland, Netherlands   \n",
       "\n",
       "                                          host_about  host_response_time  \\\n",
       "0  Living in the countryside, just near Amsterdam...  within a few hours   \n",
       "1                                                NaN                 NaN   \n",
       "\n",
       "  host_response_rate host_acceptance_rate host_is_superhost  \\\n",
       "0               100%                  75%                 f   \n",
       "1                NaN                  NaN                 f   \n",
       "\n",
       "                                  host_thumbnail_url  \\\n",
       "0  https://a0.muscache.com/im/users/3040748/profi...   \n",
       "1  https://a0.muscache.com/im/pictures/user/a5da3...   \n",
       "\n",
       "                                    host_picture_url  \\\n",
       "0  https://a0.muscache.com/im/users/3040748/profi...   \n",
       "1  https://a0.muscache.com/im/pictures/user/a5da3...   \n",
       "\n",
       "         host_neighbourhood  host_listings_count  host_total_listings_count  \\\n",
       "0                       NaN                   13                         13   \n",
       "1  Weesperbuurt en Plantage                    0                          0   \n",
       "\n",
       "                                  host_verifications host_has_profile_pic  \\\n",
       "0  ['email', 'phone', 'reviews', 'jumio', 'offlin...                    t   \n",
       "1                      ['email', 'phone', 'reviews']                    t   \n",
       "\n",
       "  host_identity_verified                          neighbourhood  \\\n",
       "0                      t  Amsterdam, North Holland, Netherlands   \n",
       "1                      f  Amsterdam, Noord-Holland, Netherlands   \n",
       "\n",
       "  neighbourhood_cleansed  neighbourhood_group_cleansed  latitude  longitude  \\\n",
       "0             Noord-Oost                           NaN  52.39508    4.99186   \n",
       "1           Centrum-Oost                           NaN  52.36371    4.90745   \n",
       "\n",
       "               property_type        room_type  accommodates  bathrooms  \\\n",
       "0  Private room in farm stay     Private room             3        NaN   \n",
       "1         Entire rental unit  Entire home/apt             4        NaN   \n",
       "\n",
       "     bathrooms_text  bedrooms  beds  \\\n",
       "0  1.5 shared baths       1.0   NaN   \n",
       "1            1 bath       2.0   2.0   \n",
       "\n",
       "                                           amenities  price  minimum_nights  \\\n",
       "0  [\"First aid kit\", \"Free parking on premises\", ...   87.0               2   \n",
       "1  [\"Hot water kettle\", \"Pocket wifi\", \"Stove\", \"...  250.0               2   \n",
       "\n",
       "   maximum_nights  minimum_minimum_nights  maximum_minimum_nights  \\\n",
       "0            1125                     2.0                     2.0   \n",
       "1            1125                     2.0                     2.0   \n",
       "\n",
       "   minimum_maximum_nights  maximum_maximum_nights  minimum_nights_avg_ntm  \\\n",
       "0                  1125.0                  1125.0                     2.0   \n",
       "1                  1125.0                  1125.0                     2.0   \n",
       "\n",
       "   maximum_nights_avg_ntm  calendar_updated has_availability  availability_30  \\\n",
       "0                  1125.0               NaN                t                0   \n",
       "1                  1125.0               NaN                t                3   \n",
       "\n",
       "   availability_60  availability_90  availability_365 calendar_last_scraped  \\\n",
       "0                0                0               249            2021-12-06   \n",
       "1                3                3                 3            2021-12-06   \n",
       "\n",
       "   number_of_reviews  number_of_reviews_ltm  number_of_reviews_l30d  \\\n",
       "0                 81                      0                       0   \n",
       "1                  9                      4                       1   \n",
       "\n",
       "  first_review last_review  review_scores_rating  review_scores_accuracy  \\\n",
       "0   2014-08-03  2019-06-15                  4.62                    4.56   \n",
       "1   2020-01-26  2021-09-05                  5.00                    5.00   \n",
       "\n",
       "   review_scores_cleanliness  review_scores_checkin  \\\n",
       "0                       4.29                   4.57   \n",
       "1                       5.00                   4.89   \n",
       "\n",
       "   review_scores_communication  review_scores_location  review_scores_value  \\\n",
       "0                         4.75                    4.69                 4.49   \n",
       "1                         5.00                    5.00                 4.89   \n",
       "\n",
       "                    license instant_bookable  calculated_host_listings_count  \\\n",
       "0  0363 2A6D 7C09 877D 715F                f                              10   \n",
       "1  0363 BD0E 9934 ACCA D3DE                f                               1   \n",
       "\n",
       "   calculated_host_listings_count_entire_homes  \\\n",
       "0                                            0   \n",
       "1                                            1   \n",
       "\n",
       "   calculated_host_listings_count_private_rooms  \\\n",
       "0                                            10   \n",
       "1                                             0   \n",
       "\n",
       "   calculated_host_listings_count_shared_rooms  reviews_per_month  \n",
       "0                                            0               0.91  \n",
       "1                                            0               0.40  "
      ]
     },
     "execution_count": 2,
     "metadata": {},
     "output_type": "execute_result"
    }
   ],
   "source": [
    "data=pd.read_csv('Data/train.csv')\n",
    "data.head(2)"
   ]
  },
  {
   "cell_type": "markdown",
   "id": "8378be30",
   "metadata": {},
   "source": [
    "*Firstly we drop those columns that, without any analysis, we know we wont wont use them to predict the price*"
   ]
  },
  {
   "cell_type": "code",
   "execution_count": 3,
   "id": "fe124ffd",
   "metadata": {},
   "outputs": [],
   "source": [
    "data=data.drop(columns=['listing_url','scrape_id','last_scraped','name','picture_url','host_url','host_name',\n",
    "                        'host_thumbnail_url',\n",
    "                        'host_picture_url','license','host_about','description','host_location','host_neighbourhood',\n",
    "                       'neighbourhood_group_cleansed','bathrooms','calendar_updated','calendar_last_scraped',\n",
    "                       'host_verifications','host_id','host_since','host_response_time','host_response_rate',\n",
    "                       'host_acceptance_rate','first_review','last_review'])"
   ]
  },
  {
   "cell_type": "code",
   "execution_count": 4,
   "id": "92357cc1",
   "metadata": {},
   "outputs": [
    {
     "name": "stdout",
     "output_type": "stream",
     "text": [
      "<class 'pandas.core.frame.DataFrame'>\n",
      "RangeIndex: 4167 entries, 0 to 4166\n",
      "Data columns (total 48 columns):\n",
      " #   Column                                        Non-Null Count  Dtype  \n",
      "---  ------                                        --------------  -----  \n",
      " 0   id                                            4167 non-null   int64  \n",
      " 1   neighborhood_overview                         3004 non-null   object \n",
      " 2   host_is_superhost                             4167 non-null   object \n",
      " 3   host_listings_count                           4167 non-null   int64  \n",
      " 4   host_total_listings_count                     4167 non-null   int64  \n",
      " 5   host_has_profile_pic                          4167 non-null   object \n",
      " 6   host_identity_verified                        4167 non-null   object \n",
      " 7   neighbourhood                                 3004 non-null   object \n",
      " 8   neighbourhood_cleansed                        4167 non-null   object \n",
      " 9   latitude                                      4167 non-null   float64\n",
      " 10  longitude                                     4167 non-null   float64\n",
      " 11  property_type                                 4167 non-null   object \n",
      " 12  room_type                                     4167 non-null   object \n",
      " 13  accommodates                                  4167 non-null   int64  \n",
      " 14  bathrooms_text                                4159 non-null   object \n",
      " 15  bedrooms                                      3914 non-null   float64\n",
      " 16  beds                                          3993 non-null   float64\n",
      " 17  amenities                                     4167 non-null   object \n",
      " 18  price                                         4167 non-null   float64\n",
      " 19  minimum_nights                                4167 non-null   int64  \n",
      " 20  maximum_nights                                4167 non-null   int64  \n",
      " 21  minimum_minimum_nights                        4166 non-null   float64\n",
      " 22  maximum_minimum_nights                        4166 non-null   float64\n",
      " 23  minimum_maximum_nights                        4166 non-null   float64\n",
      " 24  maximum_maximum_nights                        4166 non-null   float64\n",
      " 25  minimum_nights_avg_ntm                        4166 non-null   float64\n",
      " 26  maximum_nights_avg_ntm                        4166 non-null   float64\n",
      " 27  has_availability                              4167 non-null   object \n",
      " 28  availability_30                               4167 non-null   int64  \n",
      " 29  availability_60                               4167 non-null   int64  \n",
      " 30  availability_90                               4167 non-null   int64  \n",
      " 31  availability_365                              4167 non-null   int64  \n",
      " 32  number_of_reviews                             4167 non-null   int64  \n",
      " 33  number_of_reviews_ltm                         4167 non-null   int64  \n",
      " 34  number_of_reviews_l30d                        4167 non-null   int64  \n",
      " 35  review_scores_rating                          3790 non-null   float64\n",
      " 36  review_scores_accuracy                        3782 non-null   float64\n",
      " 37  review_scores_cleanliness                     3782 non-null   float64\n",
      " 38  review_scores_checkin                         3782 non-null   float64\n",
      " 39  review_scores_communication                   3782 non-null   float64\n",
      " 40  review_scores_location                        3782 non-null   float64\n",
      " 41  review_scores_value                           3782 non-null   float64\n",
      " 42  instant_bookable                              4167 non-null   object \n",
      " 43  calculated_host_listings_count                4167 non-null   int64  \n",
      " 44  calculated_host_listings_count_entire_homes   4167 non-null   int64  \n",
      " 45  calculated_host_listings_count_private_rooms  4167 non-null   int64  \n",
      " 46  calculated_host_listings_count_shared_rooms   4167 non-null   int64  \n",
      " 47  reviews_per_month                             3790 non-null   float64\n",
      "dtypes: float64(19), int64(17), object(12)\n",
      "memory usage: 1.5+ MB\n"
     ]
    }
   ],
   "source": [
    "data.info()"
   ]
  },
  {
   "cell_type": "code",
   "execution_count": 5,
   "id": "6e554b1e",
   "metadata": {},
   "outputs": [
    {
     "data": {
      "text/plain": [
       "(4167, 48)"
      ]
     },
     "execution_count": 5,
     "metadata": {},
     "output_type": "execute_result"
    }
   ],
   "source": [
    "data.shape"
   ]
  },
  {
   "cell_type": "markdown",
   "id": "6485681b",
   "metadata": {},
   "source": [
    "*We need to check the proportion of nan values*"
   ]
  },
  {
   "cell_type": "code",
   "execution_count": 6,
   "id": "bc161d52",
   "metadata": {},
   "outputs": [
    {
     "data": {
      "text/plain": [
       "neighborhood_overview                           27.909767\n",
       "neighbourhood                                   27.909767\n",
       "review_scores_value                              9.239261\n",
       "review_scores_location                           9.239261\n",
       "review_scores_communication                      9.239261\n",
       "review_scores_checkin                            9.239261\n",
       "review_scores_cleanliness                        9.239261\n",
       "review_scores_accuracy                           9.239261\n",
       "reviews_per_month                                9.047276\n",
       "review_scores_rating                             9.047276\n",
       "bedrooms                                         6.071514\n",
       "beds                                             4.175666\n",
       "bathrooms_text                                   0.191985\n",
       "maximum_nights_avg_ntm                           0.023998\n",
       "minimum_nights_avg_ntm                           0.023998\n",
       "minimum_minimum_nights                           0.023998\n",
       "minimum_maximum_nights                           0.023998\n",
       "maximum_minimum_nights                           0.023998\n",
       "maximum_maximum_nights                           0.023998\n",
       "minimum_nights                                   0.000000\n",
       "number_of_reviews_l30d                           0.000000\n",
       "calculated_host_listings_count_shared_rooms      0.000000\n",
       "calculated_host_listings_count_private_rooms     0.000000\n",
       "calculated_host_listings_count_entire_homes      0.000000\n",
       "calculated_host_listings_count                   0.000000\n",
       "dtype: float64"
      ]
     },
     "execution_count": 6,
     "metadata": {},
     "output_type": "execute_result"
    }
   ],
   "source": [
    "pd.options.display.min_rows = 74\n",
    "nan=((data.isnull().sum())/len(data))*100\n",
    "nan.sort_values(ascending = False)[:25]"
   ]
  },
  {
   "cell_type": "markdown",
   "id": "ce9321a2",
   "metadata": {},
   "source": [
    "*We drop more columns due they contains the same information than others with less nan values.*"
   ]
  },
  {
   "cell_type": "code",
   "execution_count": 7,
   "id": "e649c7c0",
   "metadata": {},
   "outputs": [],
   "source": [
    "data=data.drop(columns=['neighbourhood','neighborhood_overview'])"
   ]
  },
  {
   "cell_type": "code",
   "execution_count": 8,
   "id": "7f5f95d3",
   "metadata": {},
   "outputs": [
    {
     "data": {
      "text/plain": [
       "(4167, 46)"
      ]
     },
     "execution_count": 8,
     "metadata": {},
     "output_type": "execute_result"
    }
   ],
   "source": [
    "data.shape"
   ]
  },
  {
   "cell_type": "markdown",
   "id": "e7da2528",
   "metadata": {},
   "source": [
    "*Now, before droping more columns we analyzed the correlation between them in different groups. We change to numeric those we need to compare.*"
   ]
  },
  {
   "cell_type": "code",
   "execution_count": 9,
   "id": "98fcf144",
   "metadata": {},
   "outputs": [],
   "source": [
    "data[['host_total_listings_count', 'maximum_nights','maximum_maximum_nights',\n",
    "    'minimum_nights_avg_ntm','number_of_reviews','review_scores_accuracy',\n",
    "    'review_scores_communication','review_scores_value']] = data[['host_total_listings_count', \n",
    "    'maximum_nights','maximum_maximum_nights',\n",
    "    'minimum_nights_avg_ntm','number_of_reviews','review_scores_accuracy',\n",
    "    'review_scores_communication','review_scores_value']].apply(pd.to_numeric,errors='coerce',axis=1)"
   ]
  },
  {
   "cell_type": "markdown",
   "id": "550952e2",
   "metadata": {},
   "source": [
    "#### Host_listings_count"
   ]
  },
  {
   "cell_type": "code",
   "execution_count": 10,
   "id": "90c52a31",
   "metadata": {},
   "outputs": [
    {
     "data": {
      "image/png": "[encoded data removed]",
      "text/plain": [
       "<Figure size 864x432 with 2 Axes>"
      ]
     },
     "metadata": {},
     "output_type": "display_data"
    }
   ],
   "source": [
    "corrMatrix=data[['host_listings_count','host_total_listings_count', 'calculated_host_listings_count',\n",
    "                 'calculated_host_listings_count_entire_homes','calculated_host_listings_count_private_rooms',\n",
    "                 'calculated_host_listings_count_shared_rooms']].corr()\n",
    "sns.heatmap(corrMatrix, annot=True);"
   ]
  },
  {
   "cell_type": "code",
   "execution_count": 11,
   "id": "0e1ea4ec",
   "metadata": {},
   "outputs": [
    {
     "data": {
      "text/html": [
       "<div>\n",
       "<style scoped>\n",
       "    .dataframe tbody tr th:only-of-type {\n",
       "        vertical-align: middle;\n",
       "    }\n",
       "\n",
       "    .dataframe tbody tr th {\n",
       "        vertical-align: top;\n",
       "    }\n",
       "\n",
       "    .dataframe thead th {\n",
       "        text-align: right;\n",
       "    }\n",
       "</style>\n",
       "<table border=\"1\" class=\"dataframe\">\n",
       "  <thead>\n",
       "    <tr style=\"text-align: right;\">\n",
       "      <th></th>\n",
       "      <th>host_total_listings_count</th>\n",
       "      <th>calculated_host_listings_count</th>\n",
       "      <th>calculated_host_listings_count_entire_homes</th>\n",
       "      <th>calculated_host_listings_count_private_rooms</th>\n",
       "      <th>calculated_host_listings_count_shared_rooms</th>\n",
       "    </tr>\n",
       "  </thead>\n",
       "  <tbody>\n",
       "    <tr>\n",
       "      <th>2037</th>\n",
       "      <td>2.0</td>\n",
       "      <td>1</td>\n",
       "      <td>0</td>\n",
       "      <td>1</td>\n",
       "      <td>0</td>\n",
       "    </tr>\n",
       "    <tr>\n",
       "      <th>24</th>\n",
       "      <td>2.0</td>\n",
       "      <td>2</td>\n",
       "      <td>1</td>\n",
       "      <td>1</td>\n",
       "      <td>0</td>\n",
       "    </tr>\n",
       "    <tr>\n",
       "      <th>3849</th>\n",
       "      <td>0.0</td>\n",
       "      <td>1</td>\n",
       "      <td>1</td>\n",
       "      <td>0</td>\n",
       "      <td>0</td>\n",
       "    </tr>\n",
       "    <tr>\n",
       "      <th>3759</th>\n",
       "      <td>2.0</td>\n",
       "      <td>2</td>\n",
       "      <td>0</td>\n",
       "      <td>2</td>\n",
       "      <td>0</td>\n",
       "    </tr>\n",
       "    <tr>\n",
       "      <th>3961</th>\n",
       "      <td>2.0</td>\n",
       "      <td>2</td>\n",
       "      <td>0</td>\n",
       "      <td>2</td>\n",
       "      <td>0</td>\n",
       "    </tr>\n",
       "  </tbody>\n",
       "</table>\n",
       "</div>"
      ],
      "text/plain": [
       "      host_total_listings_count  calculated_host_listings_count  \\\n",
       "2037                        2.0                               1   \n",
       "24                          2.0                               2   \n",
       "3849                        0.0                               1   \n",
       "3759                        2.0                               2   \n",
       "3961                        2.0                               2   \n",
       "\n",
       "      calculated_host_listings_count_entire_homes  \\\n",
       "2037                                            0   \n",
       "24                                              1   \n",
       "3849                                            1   \n",
       "3759                                            0   \n",
       "3961                                            0   \n",
       "\n",
       "      calculated_host_listings_count_private_rooms  \\\n",
       "2037                                             1   \n",
       "24                                               1   \n",
       "3849                                             0   \n",
       "3759                                             2   \n",
       "3961                                             2   \n",
       "\n",
       "      calculated_host_listings_count_shared_rooms  \n",
       "2037                                            0  \n",
       "24                                              0  \n",
       "3849                                            0  \n",
       "3759                                            0  \n",
       "3961                                            0  "
      ]
     },
     "execution_count": 11,
     "metadata": {},
     "output_type": "execute_result"
    }
   ],
   "source": [
    "compare= data[[\"host_total_listings_count\", \"calculated_host_listings_count\",'calculated_host_listings_count_entire_homes',\n",
    "                'calculated_host_listings_count_private_rooms','calculated_host_listings_count_shared_rooms']]\n",
    "compare.sample(5)"
   ]
  },
  {
   "cell_type": "code",
   "execution_count": 12,
   "id": "c5948402",
   "metadata": {},
   "outputs": [
    {
     "name": "stdout",
     "output_type": "stream",
     "text": [
      "1524\n"
     ]
    }
   ],
   "source": [
    "difference=print(sum((data.host_listings_count == data.calculated_host_listings_count) == False))\n",
    "difference"
   ]
  },
  {
   "cell_type": "markdown",
   "id": "33acbefa",
   "metadata": {},
   "source": [
    "*After analysing this corrMatrix, we drop all the columns except 'calculated_host_listings_count' due its the sum of the other three calculated columns (regarding host_listings) and also because it reflects the same information as host_total_listings_count in about 65% of the rows. \n",
    "The only difference is that it is data obtained from scraping, while the other source is Airbnb.*"
   ]
  },
  {
   "cell_type": "code",
   "execution_count": 13,
   "id": "8325080b",
   "metadata": {},
   "outputs": [],
   "source": [
    "data1=data.drop(columns=['host_total_listings_count','calculated_host_listings_count_entire_homes',\n",
    "                        'calculated_host_listings_count_private_rooms','calculated_host_listings_count_shared_rooms',\n",
    "                         'host_listings_count'])"
   ]
  },
  {
   "cell_type": "markdown",
   "id": "7ebf38df",
   "metadata": {},
   "source": [
    "#### Minimum & Maximum nights"
   ]
  },
  {
   "cell_type": "code",
   "execution_count": 14,
   "id": "3e0acd8b",
   "metadata": {},
   "outputs": [
    {
     "data": {
      "image/png": "[encoded data removed]",
      "text/plain": [
       "<Figure size 864x432 with 2 Axes>"
      ]
     },
     "metadata": {},
     "output_type": "display_data"
    }
   ],
   "source": [
    "corrMatrix=data1[['minimum_nights', 'maximum_nights', 'minimum_minimum_nights','maximum_minimum_nights',\n",
    "                 'minimum_maximum_nights','maximum_maximum_nights','minimum_nights_avg_ntm',\n",
    "                 'maximum_nights_avg_ntm']].corr();\n",
    "sns.heatmap(corrMatrix, annot=True);"
   ]
  },
  {
   "cell_type": "code",
   "execution_count": 15,
   "id": "066a4157",
   "metadata": {},
   "outputs": [
    {
     "data": {
      "text/plain": [
       "315"
      ]
     },
     "execution_count": 15,
     "metadata": {},
     "output_type": "execute_result"
    }
   ],
   "source": [
    "sum((data1.minimum_nights == data1.minimum_minimum_nights) == False)"
   ]
  },
  {
   "cell_type": "markdown",
   "id": "6489267b",
   "metadata": {},
   "source": [
    "*After analysing this corrMatrix, we drop all the columns except 'minimum_nights' & 'maximum_nights' due to their correlation with the others*."
   ]
  },
  {
   "cell_type": "code",
   "execution_count": 16,
   "id": "3dadec38",
   "metadata": {},
   "outputs": [],
   "source": [
    "data2=data1.drop(columns=['minimum_minimum_nights','maximum_minimum_nights',\n",
    "                 'minimum_maximum_nights','maximum_maximum_nights','minimum_nights_avg_ntm',\n",
    "                 'maximum_nights_avg_ntm'])"
   ]
  },
  {
   "cell_type": "markdown",
   "id": "8204340d",
   "metadata": {},
   "source": [
    "#### Availability"
   ]
  },
  {
   "cell_type": "code",
   "execution_count": 17,
   "id": "84e3e767",
   "metadata": {},
   "outputs": [
    {
     "data": {
      "image/png": "[encoded data removed]",
      "text/plain": [
       "<Figure size 864x432 with 2 Axes>"
      ]
     },
     "metadata": {},
     "output_type": "display_data"
    }
   ],
   "source": [
    "corrMatrix = data2[['availability_30', 'availability_60', 'availability_90','availability_365']].corr()\n",
    "sns.heatmap(corrMatrix, annot=True);"
   ]
  },
  {
   "cell_type": "code",
   "execution_count": 18,
   "id": "7a3390de",
   "metadata": {},
   "outputs": [
    {
     "data": {
      "text/plain": [
       "1968"
      ]
     },
     "execution_count": 18,
     "metadata": {},
     "output_type": "execute_result"
    }
   ],
   "source": [
    "sum((data2.availability_90 == data2.availability_60) == False)"
   ]
  },
  {
   "cell_type": "markdown",
   "id": "b0fb8140",
   "metadata": {},
   "source": [
    "*After analysing this corrMatrix, we drop all the columns except 'availability_90' due its the one with the highest correlation with the others*."
   ]
  },
  {
   "cell_type": "code",
   "execution_count": 19,
   "id": "87427719",
   "metadata": {},
   "outputs": [],
   "source": [
    "data3=data2.drop(columns=['availability_30', 'availability_60','availability_365'])"
   ]
  },
  {
   "cell_type": "markdown",
   "id": "c63b6a84",
   "metadata": {},
   "source": [
    "#### Reviews"
   ]
  },
  {
   "cell_type": "code",
   "execution_count": 20,
   "id": "7a78c89c",
   "metadata": {},
   "outputs": [
    {
     "data": {
      "image/png": "[encoded data removed]",
      "text/plain": [
       "<Figure size 864x432 with 2 Axes>"
      ]
     },
     "metadata": {},
     "output_type": "display_data"
    }
   ],
   "source": [
    "corrMatrix=data3[['number_of_reviews', 'number_of_reviews_ltm', 'number_of_reviews_l30d','review_scores_rating',\n",
    "                 'review_scores_accuracy','review_scores_cleanliness','review_scores_checkin',\n",
    "                 'review_scores_communication','review_scores_location','review_scores_value','reviews_per_month']].corr();\n",
    "sns.heatmap(corrMatrix, annot=True);"
   ]
  },
  {
   "cell_type": "markdown",
   "id": "c4afe0dd",
   "metadata": {},
   "source": [
    "*We drop all the columns except 'number_of_reviews','review_scores_rating', due high correlation with the others*"
   ]
  },
  {
   "cell_type": "code",
   "execution_count": 21,
   "id": "f602a15e",
   "metadata": {},
   "outputs": [],
   "source": [
    "datas=data3.drop(columns=['number_of_reviews_ltm', 'number_of_reviews_l30d','review_scores_accuracy',\n",
    "                          'review_scores_cleanliness',\n",
    "                          'review_scores_checkin','review_scores_communication','review_scores_location',\n",
    "                          'review_scores_value','reviews_per_month'])"
   ]
  },
  {
   "cell_type": "code",
   "execution_count": 22,
   "id": "05e4a372",
   "metadata": {},
   "outputs": [
    {
     "data": {
      "text/plain": [
       "(4167, 23)"
      ]
     },
     "execution_count": 22,
     "metadata": {},
     "output_type": "execute_result"
    }
   ],
   "source": [
    "datas.shape"
   ]
  },
  {
   "cell_type": "markdown",
   "id": "c4a7fe1f",
   "metadata": {},
   "source": [
    "*We check again nan values and total correlation*"
   ]
  },
  {
   "cell_type": "code",
   "execution_count": 23,
   "id": "22e90af8",
   "metadata": {},
   "outputs": [
    {
     "data": {
      "text/plain": [
       "review_scores_rating    9.047276\n",
       "bedrooms                6.071514\n",
       "beds                    4.175666\n",
       "bathrooms_text          0.191985\n",
       "instant_bookable        0.000000\n",
       "number_of_reviews       0.000000\n",
       "availability_90         0.000000\n",
       "has_availability        0.000000\n",
       "maximum_nights          0.000000\n",
       "minimum_nights          0.000000\n",
       "dtype: float64"
      ]
     },
     "execution_count": 23,
     "metadata": {},
     "output_type": "execute_result"
    }
   ],
   "source": [
    "pd.options.display.min_rows = 82\n",
    "nan1=(datas.isnull().sum()/len(datas))*100\n",
    "nan1.sort_values(ascending = False)[:10]"
   ]
  },
  {
   "cell_type": "code",
   "execution_count": 24,
   "id": "f655f87e",
   "metadata": {},
   "outputs": [
    {
     "data": {
      "text/plain": [
       "id                                0.953261\n",
       "latitude                          1.153239\n",
       "longitude                         1.224063\n",
       "accommodates                      2.872329\n",
       "bedrooms                          2.530179\n",
       "beds                              2.976828\n",
       "price                             1.947018\n",
       "minimum_nights                    0.982887\n",
       "maximum_nights                    1.149473\n",
       "availability_90                   1.214938\n",
       "number_of_reviews                 0.678524\n",
       "review_scores_rating              0.592142\n",
       "calculated_host_listings_count    1.014438\n",
       "dtype: float64"
      ]
     },
     "execution_count": 24,
     "metadata": {},
     "output_type": "execute_result"
    }
   ],
   "source": [
    "corr_total=datas.corr().T\n",
    "corr_total.sum()"
   ]
  },
  {
   "cell_type": "code",
   "execution_count": 25,
   "id": "362f4881",
   "metadata": {},
   "outputs": [
    {
     "data": {
      "image/png": "[encoded data removed]",
      "text/plain": [
       "<Figure size 864x432 with 2 Axes>"
      ]
     },
     "metadata": {},
     "output_type": "display_data"
    }
   ],
   "source": [
    "corrMatrix = datas.corr()\n",
    "sns.heatmap(corrMatrix,annot=True)\n",
    "sns.set(rc={\"figure.figsize\": (12.,6.)})\n",
    "sns.set_context(\"poster\")\n",
    "sns.set_style(\"whitegrid\")\n",
    "plt.show();"
   ]
  },
  {
   "cell_type": "markdown",
   "id": "5804f986",
   "metadata": {},
   "source": [
    "*Regarding latitude and longitude we drop them and create a different dataframe to use later. We also drop beds due correlation with accomodates*"
   ]
  },
  {
   "cell_type": "code",
   "execution_count": 26,
   "id": "c91c9ea9",
   "metadata": {},
   "outputs": [],
   "source": [
    "location=datas[['id','latitude','longitude']]"
   ]
  },
  {
   "cell_type": "code",
   "execution_count": 27,
   "id": "3296304c",
   "metadata": {},
   "outputs": [],
   "source": [
    "dt=datas.drop(columns=['latitude','longitude','beds'])"
   ]
  },
  {
   "cell_type": "code",
   "execution_count": 28,
   "id": "392d64ed",
   "metadata": {},
   "outputs": [
    {
     "data": {
      "text/plain": [
       "id                                  0\n",
       "host_is_superhost                   0\n",
       "host_has_profile_pic                0\n",
       "host_identity_verified              0\n",
       "neighbourhood_cleansed              0\n",
       "property_type                       0\n",
       "room_type                           0\n",
       "accommodates                        0\n",
       "bathrooms_text                      8\n",
       "bedrooms                          253\n",
       "amenities                           0\n",
       "price                               0\n",
       "minimum_nights                      0\n",
       "maximum_nights                      0\n",
       "has_availability                    0\n",
       "availability_90                     0\n",
       "number_of_reviews                   0\n",
       "review_scores_rating              377\n",
       "instant_bookable                    0\n",
       "calculated_host_listings_count      0\n",
       "dtype: int64"
      ]
     },
     "execution_count": 28,
     "metadata": {},
     "output_type": "execute_result"
    }
   ],
   "source": [
    "dt.isnull().sum()"
   ]
  },
  {
   "cell_type": "markdown",
   "id": "0c16a0e0",
   "metadata": {},
   "source": [
    "*Checking whether boolean and categorical features contain sufficient numbers of instances in each category to make them worth including*"
   ]
  },
  {
   "cell_type": "code",
   "execution_count": 29,
   "id": "8bbb7acf",
   "metadata": {},
   "outputs": [],
   "source": [
    "dt.replace({'f': 0, 't': 1}, inplace=True)"
   ]
  },
  {
   "cell_type": "markdown",
   "id": "4448aa06",
   "metadata": {},
   "source": [
    "*We also need to change to numeric several columns to plot the histograms.*"
   ]
  },
  {
   "cell_type": "code",
   "execution_count": 30,
   "id": "b8f67267",
   "metadata": {},
   "outputs": [],
   "source": [
    "dt[['host_is_superhost','host_has_profile_pic','host_identity_verified','instant_bookable','bedrooms',\n",
    "    'has_availability']] = dt[['host_is_superhost',\n",
    "    'host_has_profile_pic','host_identity_verified','instant_bookable','bedrooms',\n",
    "    'has_availability']].apply(pd.to_numeric,errors='coerce',axis=1)"
   ]
  },
  {
   "cell_type": "code",
   "execution_count": 94,
   "id": "b5c49e81",
   "metadata": {},
   "outputs": [
    {
     "data": {
      "image/png": "[encoded data removed]",
      "text/plain": [
       "<Figure size 1440x1440 with 16 Axes>"
      ]
     },
     "metadata": {},
     "output_type": "display_data"
    }
   ],
   "source": [
    "dt.hist(figsize=(20,20));\n",
    "sns.set(rc={\"figure.figsize\": (20.,20.)})\n",
    "plt.xticks(size = 0)\n",
    "plt.yticks(size = 0);"
   ]
  },
  {
   "cell_type": "markdown",
   "id": "0e6c603b",
   "metadata": {},
   "source": [
    "*We can conculde that several columns only contain one category so they can be dropped.*"
   ]
  },
  {
   "cell_type": "code",
   "execution_count": 32,
   "id": "9204777d",
   "metadata": {},
   "outputs": [],
   "source": [
    "dt=dt.drop(columns=['has_availability','host_has_profile_pic'])"
   ]
  },
  {
   "cell_type": "code",
   "execution_count": 33,
   "id": "80706816",
   "metadata": {},
   "outputs": [
    {
     "data": {
      "text/plain": [
       "(4167, 18)"
      ]
     },
     "execution_count": 33,
     "metadata": {},
     "output_type": "execute_result"
    }
   ],
   "source": [
    "dt.shape"
   ]
  },
  {
   "cell_type": "markdown",
   "id": "4808e3ae",
   "metadata": {},
   "source": [
    "*We check again the sum of nan values to replace them where its convenient*"
   ]
  },
  {
   "cell_type": "code",
   "execution_count": 34,
   "id": "ce4a546d",
   "metadata": {},
   "outputs": [
    {
     "data": {
      "text/plain": [
       "review_scores_rating    377\n",
       "bedrooms                253\n",
       "bathrooms_text            8\n",
       "id                        0\n",
       "price                     0\n",
       "instant_bookable          0\n",
       "number_of_reviews         0\n",
       "availability_90           0\n",
       "dtype: int64"
      ]
     },
     "execution_count": 34,
     "metadata": {},
     "output_type": "execute_result"
    }
   ],
   "source": [
    "pd.options.display.min_rows = 82\n",
    "na=(dt.isnull().sum())\n",
    "na.sort_values(ascending = False)[:8]"
   ]
  },
  {
   "cell_type": "markdown",
   "id": "d2a643a9",
   "metadata": {},
   "source": [
    "*We fill with'0' the rows with nan in the reviews columns.*"
   ]
  },
  {
   "cell_type": "code",
   "execution_count": 35,
   "id": "802f0cc4",
   "metadata": {},
   "outputs": [],
   "source": [
    "dt[['review_scores_rating']]=dt[['review_scores_rating']].fillna(value=0)"
   ]
  },
  {
   "cell_type": "markdown",
   "id": "72676b01",
   "metadata": {},
   "source": [
    "*We will replace the nan values in the bedrooms columns with the mean.*"
   ]
  },
  {
   "cell_type": "code",
   "execution_count": 36,
   "id": "bef301c3",
   "metadata": {},
   "outputs": [],
   "source": [
    "dt[['bedrooms']]=dt[['bedrooms']].fillna(value=round(dt.bedrooms.mean()))"
   ]
  },
  {
   "cell_type": "code",
   "execution_count": 37,
   "id": "744eead4",
   "metadata": {},
   "outputs": [
    {
     "data": {
      "text/plain": [
       "bathrooms_text                    8\n",
       "id                                0\n",
       "price                             0\n",
       "instant_bookable                  0\n",
       "review_scores_rating              0\n",
       "number_of_reviews                 0\n",
       "availability_90                   0\n",
       "maximum_nights                    0\n",
       "minimum_nights                    0\n",
       "amenities                         0\n",
       "host_is_superhost                 0\n",
       "bedrooms                          0\n",
       "accommodates                      0\n",
       "room_type                         0\n",
       "property_type                     0\n",
       "neighbourhood_cleansed            0\n",
       "host_identity_verified            0\n",
       "calculated_host_listings_count    0\n",
       "dtype: int64"
      ]
     },
     "execution_count": 37,
     "metadata": {},
     "output_type": "execute_result"
    }
   ],
   "source": [
    "pd.options.display.min_rows = 82\n",
    "na=(dt.isnull().sum())\n",
    "na.sort_values(ascending = False)"
   ]
  },
  {
   "cell_type": "markdown",
   "id": "010666f4",
   "metadata": {},
   "source": [
    "*We clean property type and bathrooms_text columns*"
   ]
  },
  {
   "cell_type": "code",
   "execution_count": 38,
   "id": "6a52bb2b",
   "metadata": {},
   "outputs": [],
   "source": [
    "dt['property_type']=dt['property_type'].apply(room)"
   ]
  },
  {
   "cell_type": "code",
   "execution_count": 39,
   "id": "c1a9ba86",
   "metadata": {},
   "outputs": [
    {
     "data": {
      "text/html": [
       "<div>\n",
       "<style scoped>\n",
       "    .dataframe tbody tr th:only-of-type {\n",
       "        vertical-align: middle;\n",
       "    }\n",
       "\n",
       "    .dataframe tbody tr th {\n",
       "        vertical-align: top;\n",
       "    }\n",
       "\n",
       "    .dataframe thead th {\n",
       "        text-align: right;\n",
       "    }\n",
       "</style>\n",
       "<table border=\"1\" class=\"dataframe\">\n",
       "  <thead>\n",
       "    <tr style=\"text-align: right;\">\n",
       "      <th></th>\n",
       "      <th>id</th>\n",
       "      <th>host_is_superhost</th>\n",
       "      <th>host_identity_verified</th>\n",
       "      <th>neighbourhood_cleansed</th>\n",
       "      <th>property_type</th>\n",
       "      <th>room_type</th>\n",
       "      <th>accommodates</th>\n",
       "      <th>bathrooms_text</th>\n",
       "      <th>bedrooms</th>\n",
       "      <th>amenities</th>\n",
       "      <th>price</th>\n",
       "      <th>minimum_nights</th>\n",
       "      <th>maximum_nights</th>\n",
       "      <th>availability_90</th>\n",
       "      <th>number_of_reviews</th>\n",
       "      <th>review_scores_rating</th>\n",
       "      <th>instant_bookable</th>\n",
       "      <th>calculated_host_listings_count</th>\n",
       "    </tr>\n",
       "  </thead>\n",
       "  <tbody>\n",
       "    <tr>\n",
       "      <th>0</th>\n",
       "      <td>0</td>\n",
       "      <td>0.0</td>\n",
       "      <td>1.0</td>\n",
       "      <td>Noord-Oost</td>\n",
       "      <td>house</td>\n",
       "      <td>Private room</td>\n",
       "      <td>3</td>\n",
       "      <td>1.5</td>\n",
       "      <td>1.0</td>\n",
       "      <td>[\"First aid kit\", \"Free parking on premises\", ...</td>\n",
       "      <td>87.0</td>\n",
       "      <td>2</td>\n",
       "      <td>1125.0</td>\n",
       "      <td>0</td>\n",
       "      <td>81.0</td>\n",
       "      <td>4.62</td>\n",
       "      <td>0.0</td>\n",
       "      <td>10</td>\n",
       "    </tr>\n",
       "    <tr>\n",
       "      <th>1</th>\n",
       "      <td>1</td>\n",
       "      <td>0.0</td>\n",
       "      <td>0.0</td>\n",
       "      <td>Centrum-Oost</td>\n",
       "      <td>house</td>\n",
       "      <td>Entire home/apt</td>\n",
       "      <td>4</td>\n",
       "      <td>1</td>\n",
       "      <td>2.0</td>\n",
       "      <td>[\"Hot water kettle\", \"Pocket wifi\", \"Stove\", \"...</td>\n",
       "      <td>250.0</td>\n",
       "      <td>2</td>\n",
       "      <td>1125.0</td>\n",
       "      <td>3</td>\n",
       "      <td>9.0</td>\n",
       "      <td>5.00</td>\n",
       "      <td>0.0</td>\n",
       "      <td>1</td>\n",
       "    </tr>\n",
       "  </tbody>\n",
       "</table>\n",
       "</div>"
      ],
      "text/plain": [
       "   id  host_is_superhost  host_identity_verified neighbourhood_cleansed  \\\n",
       "0   0                0.0                     1.0             Noord-Oost   \n",
       "1   1                0.0                     0.0           Centrum-Oost   \n",
       "\n",
       "  property_type        room_type  accommodates bathrooms_text  bedrooms  \\\n",
       "0         house     Private room             3            1.5       1.0   \n",
       "1         house  Entire home/apt             4              1       2.0   \n",
       "\n",
       "                                           amenities  price  minimum_nights  \\\n",
       "0  [\"First aid kit\", \"Free parking on premises\", ...   87.0               2   \n",
       "1  [\"Hot water kettle\", \"Pocket wifi\", \"Stove\", \"...  250.0               2   \n",
       "\n",
       "   maximum_nights  availability_90  number_of_reviews  review_scores_rating  \\\n",
       "0          1125.0                0               81.0                  4.62   \n",
       "1          1125.0                3                9.0                  5.00   \n",
       "\n",
       "   instant_bookable  calculated_host_listings_count  \n",
       "0               0.0                              10  \n",
       "1               0.0                               1  "
      ]
     },
     "execution_count": 39,
     "metadata": {},
     "output_type": "execute_result"
    }
   ],
   "source": [
    "dt['bathrooms_text']=dt['bathrooms_text'].apply(limpieza2)\n",
    "dt.head(2)"
   ]
  },
  {
   "cell_type": "code",
   "execution_count": 40,
   "id": "99bc19af",
   "metadata": {},
   "outputs": [
    {
     "data": {
      "text/plain": [
       "(4167, 18)"
      ]
     },
     "execution_count": 40,
     "metadata": {},
     "output_type": "execute_result"
    }
   ],
   "source": [
    "dt.shape"
   ]
  },
  {
   "cell_type": "markdown",
   "id": "27e0d445",
   "metadata": {},
   "source": [
    "*We convert several columns from float to integer*"
   ]
  },
  {
   "cell_type": "code",
   "execution_count": 41,
   "id": "6941f583",
   "metadata": {},
   "outputs": [
    {
     "name": "stdout",
     "output_type": "stream",
     "text": [
      "<class 'pandas.core.frame.DataFrame'>\n",
      "RangeIndex: 4167 entries, 0 to 4166\n",
      "Data columns (total 18 columns):\n",
      " #   Column                          Non-Null Count  Dtype  \n",
      "---  ------                          --------------  -----  \n",
      " 0   id                              4167 non-null   int64  \n",
      " 1   host_is_superhost               4167 non-null   float64\n",
      " 2   host_identity_verified          4167 non-null   float64\n",
      " 3   neighbourhood_cleansed          4167 non-null   object \n",
      " 4   property_type                   4167 non-null   object \n",
      " 5   room_type                       4167 non-null   object \n",
      " 6   accommodates                    4167 non-null   int64  \n",
      " 7   bathrooms_text                  4167 non-null   object \n",
      " 8   bedrooms                        4167 non-null   float64\n",
      " 9   amenities                       4167 non-null   object \n",
      " 10  price                           4167 non-null   float64\n",
      " 11  minimum_nights                  4167 non-null   int64  \n",
      " 12  maximum_nights                  4167 non-null   float64\n",
      " 13  availability_90                 4167 non-null   int64  \n",
      " 14  number_of_reviews               4167 non-null   float64\n",
      " 15  review_scores_rating            4167 non-null   float64\n",
      " 16  instant_bookable                4167 non-null   float64\n",
      " 17  calculated_host_listings_count  4167 non-null   int64  \n",
      "dtypes: float64(8), int64(5), object(5)\n",
      "memory usage: 586.1+ KB\n"
     ]
    }
   ],
   "source": [
    "dt.info()"
   ]
  },
  {
   "cell_type": "code",
   "execution_count": 42,
   "id": "ab2bc1d0",
   "metadata": {},
   "outputs": [],
   "source": [
    "dt= dt.astype({'host_is_superhost':'int','host_identity_verified':'int','bedrooms':'int',\n",
    "              'maximum_nights':'int','number_of_reviews':'int','instant_bookable':'int'}) "
   ]
  },
  {
   "cell_type": "markdown",
   "id": "6ac29798",
   "metadata": {},
   "source": [
    "*For now, we will also drop the amenities column*"
   ]
  },
  {
   "cell_type": "code",
   "execution_count": 43,
   "id": "a238b7c6",
   "metadata": {},
   "outputs": [],
   "source": [
    "dt=dt.drop(columns='amenities')"
   ]
  },
  {
   "cell_type": "code",
   "execution_count": 44,
   "id": "fe0871ca",
   "metadata": {},
   "outputs": [
    {
     "name": "stdout",
     "output_type": "stream",
     "text": [
      "<class 'pandas.core.frame.DataFrame'>\n",
      "RangeIndex: 4167 entries, 0 to 4166\n",
      "Data columns (total 17 columns):\n",
      " #   Column                          Non-Null Count  Dtype  \n",
      "---  ------                          --------------  -----  \n",
      " 0   id                              4167 non-null   int64  \n",
      " 1   host_is_superhost               4167 non-null   int64  \n",
      " 2   host_identity_verified          4167 non-null   int64  \n",
      " 3   neighbourhood_cleansed          4167 non-null   object \n",
      " 4   property_type                   4167 non-null   object \n",
      " 5   room_type                       4167 non-null   object \n",
      " 6   accommodates                    4167 non-null   int64  \n",
      " 7   bathrooms_text                  4167 non-null   object \n",
      " 8   bedrooms                        4167 non-null   int64  \n",
      " 9   price                           4167 non-null   float64\n",
      " 10  minimum_nights                  4167 non-null   int64  \n",
      " 11  maximum_nights                  4167 non-null   int64  \n",
      " 12  availability_90                 4167 non-null   int64  \n",
      " 13  number_of_reviews               4167 non-null   int64  \n",
      " 14  review_scores_rating            4167 non-null   float64\n",
      " 15  instant_bookable                4167 non-null   int64  \n",
      " 16  calculated_host_listings_count  4167 non-null   int64  \n",
      "dtypes: float64(2), int64(11), object(4)\n",
      "memory usage: 553.6+ KB\n"
     ]
    }
   ],
   "source": [
    "dt.info()"
   ]
  },
  {
   "cell_type": "markdown",
   "id": "ade6fb7d",
   "metadata": {},
   "source": [
    "##### OUTLIERS"
   ]
  },
  {
   "cell_type": "code",
   "execution_count": 45,
   "id": "b7955b1e",
   "metadata": {},
   "outputs": [
    {
     "data": {
      "image/png": "[encoded data removed]",
      "text/plain": [
       "<Figure size 1440x1440 with 1 Axes>"
      ]
     },
     "metadata": {},
     "output_type": "display_data"
    }
   ],
   "source": [
    "boxplot = dt.boxplot(column=['accommodates','minimum_nights','maximum_nights','availability_90','number_of_reviews','review_scores_rating',\n",
    "                                 'calculated_host_listings_count']) "
   ]
  },
  {
   "cell_type": "code",
   "execution_count": 46,
   "id": "3966b3ce",
   "metadata": {},
   "outputs": [
    {
     "data": {
      "text/plain": [
       "17.0"
      ]
     },
     "execution_count": 46,
     "metadata": {},
     "output_type": "execute_result"
    }
   ],
   "source": [
    "dt.number_of_reviews.median()"
   ]
  },
  {
   "cell_type": "code",
   "execution_count": 47,
   "id": "7d1d88bd",
   "metadata": {},
   "outputs": [
    {
     "data": {
      "text/plain": [
       "48.94576433885289"
      ]
     },
     "execution_count": 47,
     "metadata": {},
     "output_type": "execute_result"
    }
   ],
   "source": [
    "dt.number_of_reviews.mean()"
   ]
  },
  {
   "cell_type": "markdown",
   "id": "83081281",
   "metadata": {},
   "source": [
    "*Finally,we convert the object columns with 'get dummies'*"
   ]
  },
  {
   "cell_type": "code",
   "execution_count": 48,
   "id": "2ac6bffe",
   "metadata": {},
   "outputs": [
    {
     "data": {
      "text/html": [
       "<div>\n",
       "<style scoped>\n",
       "    .dataframe tbody tr th:only-of-type {\n",
       "        vertical-align: middle;\n",
       "    }\n",
       "\n",
       "    .dataframe tbody tr th {\n",
       "        vertical-align: top;\n",
       "    }\n",
       "\n",
       "    .dataframe thead th {\n",
       "        text-align: right;\n",
       "    }\n",
       "</style>\n",
       "<table border=\"1\" class=\"dataframe\">\n",
       "  <thead>\n",
       "    <tr style=\"text-align: right;\">\n",
       "      <th></th>\n",
       "      <th>id</th>\n",
       "      <th>host_is_superhost</th>\n",
       "      <th>host_identity_verified</th>\n",
       "      <th>accommodates</th>\n",
       "      <th>bedrooms</th>\n",
       "      <th>price</th>\n",
       "      <th>minimum_nights</th>\n",
       "      <th>maximum_nights</th>\n",
       "      <th>availability_90</th>\n",
       "      <th>number_of_reviews</th>\n",
       "      <th>review_scores_rating</th>\n",
       "      <th>instant_bookable</th>\n",
       "      <th>calculated_host_listings_count</th>\n",
       "      <th>neighbourhood_cleansed_Bijlmer-Oost</th>\n",
       "      <th>neighbourhood_cleansed_Bos en Lommer</th>\n",
       "      <th>neighbourhood_cleansed_Buitenveldert - Zuidas</th>\n",
       "      <th>neighbourhood_cleansed_Centrum-Oost</th>\n",
       "      <th>neighbourhood_cleansed_Centrum-West</th>\n",
       "      <th>neighbourhood_cleansed_De Aker - Nieuw Sloten</th>\n",
       "      <th>neighbourhood_cleansed_De Baarsjes - Oud-West</th>\n",
       "      <th>neighbourhood_cleansed_De Pijp - Rivierenbuurt</th>\n",
       "      <th>neighbourhood_cleansed_Gaasperdam - Driemond</th>\n",
       "      <th>neighbourhood_cleansed_Geuzenveld - Slotermeer</th>\n",
       "      <th>neighbourhood_cleansed_IJburg - Zeeburgereiland</th>\n",
       "      <th>neighbourhood_cleansed_Noord-Oost</th>\n",
       "      <th>neighbourhood_cleansed_Noord-West</th>\n",
       "      <th>neighbourhood_cleansed_Oostelijk Havengebied - Indische Buurt</th>\n",
       "      <th>neighbourhood_cleansed_Osdorp</th>\n",
       "      <th>neighbourhood_cleansed_Oud-Noord</th>\n",
       "      <th>neighbourhood_cleansed_Oud-Oost</th>\n",
       "      <th>neighbourhood_cleansed_Slotervaart</th>\n",
       "      <th>neighbourhood_cleansed_Watergraafsmeer</th>\n",
       "      <th>neighbourhood_cleansed_Westerpark</th>\n",
       "      <th>neighbourhood_cleansed_Zuid</th>\n",
       "      <th>property_type_apartment</th>\n",
       "      <th>property_type_bed and breakfast</th>\n",
       "      <th>property_type_boat</th>\n",
       "      <th>property_type_condominium</th>\n",
       "      <th>property_type_hostel</th>\n",
       "      <th>property_type_hotel</th>\n",
       "      <th>property_type_house</th>\n",
       "      <th>room_type_Hotel room</th>\n",
       "      <th>room_type_Private room</th>\n",
       "      <th>room_type_Shared room</th>\n",
       "      <th>bathrooms_text_0</th>\n",
       "      <th>bathrooms_text_1</th>\n",
       "      <th>bathrooms_text_1.5</th>\n",
       "      <th>bathrooms_text_2</th>\n",
       "      <th>bathrooms_text_2.5</th>\n",
       "      <th>bathrooms_text_3</th>\n",
       "      <th>bathrooms_text_3.5</th>\n",
       "      <th>bathrooms_text_4</th>\n",
       "      <th>bathrooms_text_4.5</th>\n",
       "      <th>bathrooms_text_5</th>\n",
       "      <th>bathrooms_text_5.5</th>\n",
       "    </tr>\n",
       "  </thead>\n",
       "  <tbody>\n",
       "    <tr>\n",
       "      <th>0</th>\n",
       "      <td>0</td>\n",
       "      <td>0</td>\n",
       "      <td>1</td>\n",
       "      <td>3</td>\n",
       "      <td>1</td>\n",
       "      <td>87.0</td>\n",
       "      <td>2</td>\n",
       "      <td>1125</td>\n",
       "      <td>0</td>\n",
       "      <td>81</td>\n",
       "      <td>4.62</td>\n",
       "      <td>0</td>\n",
       "      <td>10</td>\n",
       "      <td>0</td>\n",
       "      <td>0</td>\n",
       "      <td>0</td>\n",
       "      <td>0</td>\n",
       "      <td>0</td>\n",
       "      <td>0</td>\n",
       "      <td>0</td>\n",
       "      <td>0</td>\n",
       "      <td>0</td>\n",
       "      <td>0</td>\n",
       "      <td>0</td>\n",
       "      <td>1</td>\n",
       "      <td>0</td>\n",
       "      <td>0</td>\n",
       "      <td>0</td>\n",
       "      <td>0</td>\n",
       "      <td>0</td>\n",
       "      <td>0</td>\n",
       "      <td>0</td>\n",
       "      <td>0</td>\n",
       "      <td>0</td>\n",
       "      <td>0</td>\n",
       "      <td>0</td>\n",
       "      <td>0</td>\n",
       "      <td>0</td>\n",
       "      <td>0</td>\n",
       "      <td>0</td>\n",
       "      <td>1</td>\n",
       "      <td>0</td>\n",
       "      <td>1</td>\n",
       "      <td>0</td>\n",
       "      <td>0</td>\n",
       "      <td>0</td>\n",
       "      <td>1</td>\n",
       "      <td>0</td>\n",
       "      <td>0</td>\n",
       "      <td>0</td>\n",
       "      <td>0</td>\n",
       "      <td>0</td>\n",
       "      <td>0</td>\n",
       "      <td>0</td>\n",
       "      <td>0</td>\n",
       "    </tr>\n",
       "  </tbody>\n",
       "</table>\n",
       "</div>"
      ],
      "text/plain": [
       "   id  host_is_superhost  host_identity_verified  accommodates  bedrooms  \\\n",
       "0   0                  0                       1             3         1   \n",
       "\n",
       "   price  minimum_nights  maximum_nights  availability_90  number_of_reviews  \\\n",
       "0   87.0               2            1125                0                 81   \n",
       "\n",
       "   review_scores_rating  instant_bookable  calculated_host_listings_count  \\\n",
       "0                  4.62                 0                              10   \n",
       "\n",
       "   neighbourhood_cleansed_Bijlmer-Oost  neighbourhood_cleansed_Bos en Lommer  \\\n",
       "0                                    0                                     0   \n",
       "\n",
       "   neighbourhood_cleansed_Buitenveldert - Zuidas  \\\n",
       "0                                              0   \n",
       "\n",
       "   neighbourhood_cleansed_Centrum-Oost  neighbourhood_cleansed_Centrum-West  \\\n",
       "0                                    0                                    0   \n",
       "\n",
       "   neighbourhood_cleansed_De Aker - Nieuw Sloten  \\\n",
       "0                                              0   \n",
       "\n",
       "   neighbourhood_cleansed_De Baarsjes - Oud-West  \\\n",
       "0                                              0   \n",
       "\n",
       "   neighbourhood_cleansed_De Pijp - Rivierenbuurt  \\\n",
       "0                                               0   \n",
       "\n",
       "   neighbourhood_cleansed_Gaasperdam - Driemond  \\\n",
       "0                                             0   \n",
       "\n",
       "   neighbourhood_cleansed_Geuzenveld - Slotermeer  \\\n",
       "0                                               0   \n",
       "\n",
       "   neighbourhood_cleansed_IJburg - Zeeburgereiland  \\\n",
       "0                                                0   \n",
       "\n",
       "   neighbourhood_cleansed_Noord-Oost  neighbourhood_cleansed_Noord-West  \\\n",
       "0                                  1                                  0   \n",
       "\n",
       "   neighbourhood_cleansed_Oostelijk Havengebied - Indische Buurt  \\\n",
       "0                                                  0               \n",
       "\n",
       "   neighbourhood_cleansed_Osdorp  neighbourhood_cleansed_Oud-Noord  \\\n",
       "0                              0                                 0   \n",
       "\n",
       "   neighbourhood_cleansed_Oud-Oost  neighbourhood_cleansed_Slotervaart  \\\n",
       "0                                0                                   0   \n",
       "\n",
       "   neighbourhood_cleansed_Watergraafsmeer  neighbourhood_cleansed_Westerpark  \\\n",
       "0                                       0                                  0   \n",
       "\n",
       "   neighbourhood_cleansed_Zuid  property_type_apartment  \\\n",
       "0                            0                        0   \n",
       "\n",
       "   property_type_bed and breakfast  property_type_boat  \\\n",
       "0                                0                   0   \n",
       "\n",
       "   property_type_condominium  property_type_hostel  property_type_hotel  \\\n",
       "0                          0                     0                    0   \n",
       "\n",
       "   property_type_house  room_type_Hotel room  room_type_Private room  \\\n",
       "0                    1                     0                       1   \n",
       "\n",
       "   room_type_Shared room  bathrooms_text_0  bathrooms_text_1  \\\n",
       "0                      0                 0                 0   \n",
       "\n",
       "   bathrooms_text_1.5  bathrooms_text_2  bathrooms_text_2.5  bathrooms_text_3  \\\n",
       "0                   1                 0                   0                 0   \n",
       "\n",
       "   bathrooms_text_3.5  bathrooms_text_4  bathrooms_text_4.5  bathrooms_text_5  \\\n",
       "0                   0                 0                   0                 0   \n",
       "\n",
       "   bathrooms_text_5.5  \n",
       "0                   0  "
      ]
     },
     "execution_count": 48,
     "metadata": {},
     "output_type": "execute_result"
    }
   ],
   "source": [
    "final=pd.get_dummies(data=dt,columns=['neighbourhood_cleansed','property_type','room_type','bathrooms_text'], drop_first=True)\n",
    "final.head(1)"
   ]
  },
  {
   "cell_type": "code",
   "execution_count": 49,
   "id": "8edfa175",
   "metadata": {},
   "outputs": [
    {
     "data": {
      "text/plain": [
       "(4167, 55)"
      ]
     },
     "execution_count": 49,
     "metadata": {},
     "output_type": "execute_result"
    }
   ],
   "source": [
    "final.shape"
   ]
  },
  {
   "cell_type": "markdown",
   "id": "039e9c01",
   "metadata": {},
   "source": [
    "## MODELING"
   ]
  },
  {
   "cell_type": "markdown",
   "id": "dce36939",
   "metadata": {},
   "source": [
    "#### Libraries"
   ]
  },
  {
   "cell_type": "code",
   "execution_count": 50,
   "id": "279ffe52",
   "metadata": {},
   "outputs": [],
   "source": [
    "from sklearn.linear_model import LogisticRegression\n",
    "from sklearn.model_selection import train_test_split as tts\n",
    "\n",
    "from sklearn.metrics import mean_squared_error as mse\n",
    "from sklearn.linear_model import Lasso\n",
    "from sklearn.linear_model import Ridge\n",
    "from sklearn.linear_model import ElasticNet\n",
    "from sklearn.svm import SVR\n",
    "\n",
    "from sklearn.linear_model import SGDRegressor as SGDR\n",
    "from sklearn.neighbors import KNeighborsRegressor as KNNR\n",
    "from sklearn.ensemble import GradientBoostingRegressor as GBR\n",
    "from xgboost import XGBRegressor as XGBR #recomendado paper\n",
    "from catboost import CatBoostRegressor as CTR\n",
    "from lightgbm import LGBMRegressor as LGBMR\n",
    "from sklearn.ensemble import RandomForestRegressor as RFR"
   ]
  },
  {
   "cell_type": "markdown",
   "id": "ddaff3f3",
   "metadata": {},
   "source": [
    "### PCA"
   ]
  },
  {
   "cell_type": "code",
   "execution_count": 51,
   "id": "bd63a7e8",
   "metadata": {},
   "outputs": [],
   "source": [
    "from sklearn.preprocessing import StandardScaler, MinMaxScaler \n",
    "from sklearn.decomposition import PCA\n",
    "from sklearn.model_selection import train_test_split as tts"
   ]
  },
  {
   "cell_type": "code",
   "execution_count": 52,
   "id": "79e69720",
   "metadata": {},
   "outputs": [],
   "source": [
    "dfnum = dt.select_dtypes(include=np.number)"
   ]
  },
  {
   "cell_type": "code",
   "execution_count": 53,
   "id": "b54df506",
   "metadata": {},
   "outputs": [],
   "source": [
    "dfnum=dfnum.drop(columns=['price'])"
   ]
  },
  {
   "cell_type": "code",
   "execution_count": 54,
   "id": "eec276bf",
   "metadata": {},
   "outputs": [
    {
     "data": {
      "text/plain": [
       "(4167, 12)"
      ]
     },
     "execution_count": 54,
     "metadata": {},
     "output_type": "execute_result"
    }
   ],
   "source": [
    "dfnum.shape"
   ]
  },
  {
   "cell_type": "code",
   "execution_count": 55,
   "id": "3ea6521c",
   "metadata": {},
   "outputs": [
    {
     "data": {
      "text/html": [
       "<div>\n",
       "<style scoped>\n",
       "    .dataframe tbody tr th:only-of-type {\n",
       "        vertical-align: middle;\n",
       "    }\n",
       "\n",
       "    .dataframe tbody tr th {\n",
       "        vertical-align: top;\n",
       "    }\n",
       "\n",
       "    .dataframe thead th {\n",
       "        text-align: right;\n",
       "    }\n",
       "</style>\n",
       "<table border=\"1\" class=\"dataframe\">\n",
       "  <thead>\n",
       "    <tr style=\"text-align: right;\">\n",
       "      <th></th>\n",
       "      <th>0</th>\n",
       "      <th>1</th>\n",
       "      <th>2</th>\n",
       "      <th>3</th>\n",
       "      <th>4</th>\n",
       "      <th>5</th>\n",
       "      <th>6</th>\n",
       "      <th>7</th>\n",
       "      <th>8</th>\n",
       "      <th>9</th>\n",
       "      <th>10</th>\n",
       "      <th>11</th>\n",
       "    </tr>\n",
       "  </thead>\n",
       "  <tbody>\n",
       "    <tr>\n",
       "      <th>0</th>\n",
       "      <td>-1.731635</td>\n",
       "      <td>-0.593703</td>\n",
       "      <td>0.491962</td>\n",
       "      <td>0.040144</td>\n",
       "      <td>-0.674469</td>\n",
       "      <td>-0.074410</td>\n",
       "      <td>1.121117</td>\n",
       "      <td>-0.905124</td>\n",
       "      <td>0.358863</td>\n",
       "      <td>0.183460</td>\n",
       "      <td>-0.704436</td>\n",
       "      <td>2.535096</td>\n",
       "    </tr>\n",
       "    <tr>\n",
       "      <th>1</th>\n",
       "      <td>-1.730804</td>\n",
       "      <td>-0.593703</td>\n",
       "      <td>-2.032676</td>\n",
       "      <td>0.722918</td>\n",
       "      <td>0.443920</td>\n",
       "      <td>-0.074410</td>\n",
       "      <td>1.121117</td>\n",
       "      <td>-0.813457</td>\n",
       "      <td>-0.447212</td>\n",
       "      <td>0.451934</td>\n",
       "      <td>-0.704436</td>\n",
       "      <td>-0.373424</td>\n",
       "    </tr>\n",
       "    <tr>\n",
       "      <th>2</th>\n",
       "      <td>-1.729973</td>\n",
       "      <td>1.684345</td>\n",
       "      <td>0.491962</td>\n",
       "      <td>-0.642630</td>\n",
       "      <td>-0.674469</td>\n",
       "      <td>-0.118947</td>\n",
       "      <td>1.121117</td>\n",
       "      <td>1.692117</td>\n",
       "      <td>-0.021784</td>\n",
       "      <td>0.303567</td>\n",
       "      <td>1.419576</td>\n",
       "      <td>5.766784</td>\n",
       "    </tr>\n",
       "    <tr>\n",
       "      <th>3</th>\n",
       "      <td>-1.729141</td>\n",
       "      <td>-0.593703</td>\n",
       "      <td>-2.032676</td>\n",
       "      <td>-0.642630</td>\n",
       "      <td>-0.674469</td>\n",
       "      <td>-0.074410</td>\n",
       "      <td>-0.961178</td>\n",
       "      <td>-0.905124</td>\n",
       "      <td>-0.436017</td>\n",
       "      <td>0.451934</td>\n",
       "      <td>-0.704436</td>\n",
       "      <td>-0.373424</td>\n",
       "    </tr>\n",
       "    <tr>\n",
       "      <th>4</th>\n",
       "      <td>-1.728310</td>\n",
       "      <td>1.684345</td>\n",
       "      <td>0.491962</td>\n",
       "      <td>-0.642630</td>\n",
       "      <td>-0.674469</td>\n",
       "      <td>-0.074410</td>\n",
       "      <td>-1.004916</td>\n",
       "      <td>1.478227</td>\n",
       "      <td>1.310479</td>\n",
       "      <td>0.218786</td>\n",
       "      <td>-0.704436</td>\n",
       "      <td>-0.373424</td>\n",
       "    </tr>\n",
       "  </tbody>\n",
       "</table>\n",
       "</div>"
      ],
      "text/plain": [
       "         0         1         2         3         4         5         6   \\\n",
       "0 -1.731635 -0.593703  0.491962  0.040144 -0.674469 -0.074410  1.121117   \n",
       "1 -1.730804 -0.593703 -2.032676  0.722918  0.443920 -0.074410  1.121117   \n",
       "2 -1.729973  1.684345  0.491962 -0.642630 -0.674469 -0.118947  1.121117   \n",
       "3 -1.729141 -0.593703 -2.032676 -0.642630 -0.674469 -0.074410 -0.961178   \n",
       "4 -1.728310  1.684345  0.491962 -0.642630 -0.674469 -0.074410 -1.004916   \n",
       "\n",
       "         7         8         9         10        11  \n",
       "0 -0.905124  0.358863  0.183460 -0.704436  2.535096  \n",
       "1 -0.813457 -0.447212  0.451934 -0.704436 -0.373424  \n",
       "2  1.692117 -0.021784  0.303567  1.419576  5.766784  \n",
       "3 -0.905124 -0.436017  0.451934 -0.704436 -0.373424  \n",
       "4  1.478227  1.310479  0.218786 -0.704436 -0.373424  "
      ]
     },
     "execution_count": 55,
     "metadata": {},
     "output_type": "execute_result"
    }
   ],
   "source": [
    "data=StandardScaler().fit_transform(dfnum)\n",
    "data=pd.DataFrame(data)\n",
    "data.head()"
   ]
  },
  {
   "cell_type": "code",
   "execution_count": 56,
   "id": "aaf87fbf",
   "metadata": {},
   "outputs": [
    {
     "data": {
      "text/plain": [
       "PCA()"
      ]
     },
     "execution_count": 56,
     "metadata": {},
     "output_type": "execute_result"
    }
   ],
   "source": [
    "pca=PCA()\n",
    "pca.fit(data)"
   ]
  },
  {
   "cell_type": "code",
   "execution_count": 57,
   "id": "c2eb29fe",
   "metadata": {},
   "outputs": [
    {
     "data": {
      "text/plain": [
       "array([0.171928  , 0.13059446, 0.11449852, 0.08520629, 0.0846334 ,\n",
       "       0.08050814, 0.0777868 , 0.06686092, 0.06300442, 0.05571481])"
      ]
     },
     "execution_count": 57,
     "metadata": {},
     "output_type": "execute_result"
    }
   ],
   "source": [
    "pca.explained_variance_ratio_[:10]"
   ]
  },
  {
   "cell_type": "code",
   "execution_count": 58,
   "id": "93916fba",
   "metadata": {},
   "outputs": [
    {
     "data": {
      "image/png": "[encoded data removed]",
      "text/plain": [
       "<Figure size 720x360 with 1 Axes>"
      ]
     },
     "metadata": {},
     "output_type": "display_data"
    }
   ],
   "source": [
    "plt.figure(figsize=(10, 5))\n",
    "plt.plot(np.cumsum(pca.explained_variance_ratio_))\n",
    "plt.xlabel('Number of components')\n",
    "plt.ylabel('% variance')\n",
    "plt.ylim([0, 1.01]);"
   ]
  },
  {
   "cell_type": "markdown",
   "id": "b1063817",
   "metadata": {},
   "source": [
    "### Recursive feature elimination"
   ]
  },
  {
   "cell_type": "code",
   "execution_count": 59,
   "id": "2f453e2c",
   "metadata": {},
   "outputs": [],
   "source": [
    "from sklearn.feature_selection import RFE"
   ]
  },
  {
   "cell_type": "code",
   "execution_count": 60,
   "id": "f03f2b3a",
   "metadata": {},
   "outputs": [],
   "source": [
    "features=list(final.columns)\n",
    "features.remove('price')"
   ]
  },
  {
   "cell_type": "code",
   "execution_count": 61,
   "id": "039671d4",
   "metadata": {},
   "outputs": [],
   "source": [
    "features=features\n",
    "target='price'"
   ]
  },
  {
   "cell_type": "code",
   "execution_count": 62,
   "id": "07e2ce81",
   "metadata": {},
   "outputs": [],
   "source": [
    "X_train, X_test, y_train, y_test = tts(final[features], final[target])"
   ]
  },
  {
   "cell_type": "code",
   "execution_count": 63,
   "id": "4b644f80",
   "metadata": {},
   "outputs": [],
   "source": [
    "modelo=RFR() "
   ]
  },
  {
   "cell_type": "code",
   "execution_count": 64,
   "id": "aba3a2ea",
   "metadata": {},
   "outputs": [],
   "source": [
    "selector=RFE(modelo, n_features_to_select=10, step=1)"
   ]
  },
  {
   "cell_type": "code",
   "execution_count": 65,
   "id": "ce770c98",
   "metadata": {},
   "outputs": [
    {
     "data": {
      "text/plain": [
       "RFE(estimator=RandomForestRegressor(), n_features_to_select=10)"
      ]
     },
     "execution_count": 65,
     "metadata": {},
     "output_type": "execute_result"
    }
   ],
   "source": [
    "selector.fit(X_train, y_train)"
   ]
  },
  {
   "cell_type": "code",
   "execution_count": 66,
   "id": "81c8fc8c",
   "metadata": {},
   "outputs": [
    {
     "data": {
      "text/plain": [
       "array([ 1, 13,  7,  1,  2,  3,  1,  1,  1,  1, 16,  1, 37, 27, 39,  1,  6,\n",
       "       18, 22,  9, 38, 35, 28, 30, 19, 26, 36,  8, 21, 31, 29, 23, 24, 17,\n",
       "       32, 12, 25, 34,  1,  4, 15,  1, 41, 44,  5, 14, 20, 11, 10, 33, 43,\n",
       "       42, 40, 45])"
      ]
     },
     "execution_count": 66,
     "metadata": {},
     "output_type": "execute_result"
    }
   ],
   "source": [
    "selector.ranking_  "
   ]
  },
  {
   "cell_type": "code",
   "execution_count": 67,
   "id": "9db40b7d",
   "metadata": {},
   "outputs": [
    {
     "data": {
      "text/plain": [
       "['id',\n",
       " 'accommodates',\n",
       " 'maximum_nights',\n",
       " 'availability_90',\n",
       " 'number_of_reviews',\n",
       " 'review_scores_rating',\n",
       " 'calculated_host_listings_count',\n",
       " 'neighbourhood_cleansed_Centrum-Oost',\n",
       " 'property_type_hotel',\n",
       " 'room_type_Private room']"
      ]
     },
     "execution_count": 67,
     "metadata": {},
     "output_type": "execute_result"
    }
   ],
   "source": [
    "[features[i] for i,e in enumerate(selector.support_) if e] # las mas importantes"
   ]
  },
  {
   "cell_type": "code",
   "execution_count": 68,
   "id": "310c45e9",
   "metadata": {},
   "outputs": [],
   "source": [
    "X_train_s, X_test_s, y_train_s, y_test_s = tts(final[[features[i] for i,e in enumerate(selector.support_) if e]], \n",
    "                                       final[target])"
   ]
  },
  {
   "cell_type": "code",
   "execution_count": 69,
   "id": "913747bb",
   "metadata": {},
   "outputs": [],
   "source": [
    "rfr=RFR(n_estimators=50) "
   ]
  },
  {
   "cell_type": "code",
   "execution_count": 70,
   "id": "4c638680",
   "metadata": {},
   "outputs": [],
   "source": [
    "\n",
    "rfr.fit(X_train_s, y_train_s)\n",
    "y_pred=rfr.predict(X_test_s)\n"
   ]
  },
  {
   "cell_type": "code",
   "execution_count": 71,
   "id": "cec2702f",
   "metadata": {},
   "outputs": [
    {
     "name": "stdout",
     "output_type": "stream",
     "text": [
      "Train R2: 0.8333014197064115\n",
      "Test R2: 0.637448675959346\n",
      "rsme: 132.83116059765408\n"
     ]
    }
   ],
   "source": [
    "train_score=rfr.score(X_train_s, y_train_s)  \n",
    "test_score=rfr.score(X_test_s, y_test_s)\n",
    "mean_sq=mean_squared_error(y_test_s, y_pred, squared=False)\n",
    "\n",
    "print('Train R2:', train_score)\n",
    "print('Test R2:', test_score)\n",
    "print('rsme:', mean_sq)"
   ]
  },
  {
   "cell_type": "code",
   "execution_count": 72,
   "id": "bb32bfb6",
   "metadata": {},
   "outputs": [],
   "source": [
    "from sklearn.feature_selection import SelectFromModel as SFM"
   ]
  },
  {
   "cell_type": "code",
   "execution_count": 73,
   "id": "388f6262",
   "metadata": {},
   "outputs": [
    {
     "data": {
      "text/plain": [
       "<catboost.core.CatBoostRegressor at 0x7f4cb29a7cd0>"
      ]
     },
     "execution_count": 73,
     "metadata": {},
     "output_type": "execute_result"
    }
   ],
   "source": [
    "modelo=CTR(verbose=0)\n",
    "\n",
    "selector=SFM(modelo, threshold=0.25)\n",
    "selector.fit(X_train, y_train)\n",
    "modelo.fit(X_train, y_train)\n"
   ]
  },
  {
   "cell_type": "code",
   "execution_count": 74,
   "id": "53b4937e",
   "metadata": {},
   "outputs": [
    {
     "data": {
      "text/plain": [
       "array([ 4.74189043,  0.23268576,  0.28481734, 10.72736954,  4.45703254,\n",
       "        1.91242909,  3.94988296, 18.78437348,  4.51101028,  6.43749387])"
      ]
     },
     "execution_count": 74,
     "metadata": {},
     "output_type": "execute_result"
    }
   ],
   "source": [
    "modelo.feature_importances_[:10]"
   ]
  },
  {
   "cell_type": "code",
   "execution_count": 75,
   "id": "121b180e",
   "metadata": {},
   "outputs": [
    {
     "data": {
      "text/plain": [
       "100.0"
      ]
     },
     "execution_count": 75,
     "metadata": {},
     "output_type": "execute_result"
    }
   ],
   "source": [
    "sum(modelo.feature_importances_)"
   ]
  },
  {
   "cell_type": "code",
   "execution_count": 76,
   "id": "dff628db",
   "metadata": {},
   "outputs": [
    {
     "data": {
      "text/plain": [
       "[('id', 4.741890431693736),\n",
       " ('host_is_superhost', 0.23268576448582476),\n",
       " ('host_identity_verified', 0.2848173408901964),\n",
       " ('accommodates', 10.727369539972864),\n",
       " ('bedrooms', 4.457032541813231),\n",
       " ('minimum_nights', 1.9124290856162443),\n",
       " ('maximum_nights', 3.9498829636455683),\n",
       " ('availability_90', 18.78437348425268),\n",
       " ('number_of_reviews', 4.511010275767609),\n",
       " ('review_scores_rating', 6.437493870748766)]"
      ]
     },
     "execution_count": 76,
     "metadata": {},
     "output_type": "execute_result"
    }
   ],
   "source": [
    "list(zip(features, modelo.feature_importances_))[:10]"
   ]
  },
  {
   "cell_type": "markdown",
   "id": "0bab61ae",
   "metadata": {},
   "source": [
    "### MODELS"
   ]
  },
  {
   "cell_type": "code",
   "execution_count": 77,
   "id": "dbf83d61",
   "metadata": {},
   "outputs": [],
   "source": [
    "X=final.drop('price', axis=1)\n",
    "y=final.price"
   ]
  },
  {
   "cell_type": "code",
   "execution_count": 78,
   "id": "9fd668ca",
   "metadata": {},
   "outputs": [],
   "source": [
    "X_train, X_test, y_train, y_test = tts(X, y, test_size=0.1, train_size=0.9, random_state=42)"
   ]
  },
  {
   "cell_type": "code",
   "execution_count": 79,
   "id": "ba9da0ad",
   "metadata": {},
   "outputs": [],
   "source": [
    "def regre(modelo):\n",
    "    \n",
    "    modelo.fit(X_train, y_train)\n",
    "    y_pred=modelo.predict(X_test)\n",
    "    modelo.fit(X,y)\n",
    "\n",
    "    train_score=modelo.score(X_train, y_train)  \n",
    "    test_score=modelo.score(X_test, y_test)\n",
    "    mean_sq=mean_squared_error(y_test, y_pred, squared=False)\n",
    "      \n",
    "    print(modelo)\n",
    "    print('Train R2:', train_score)\n",
    "    print('Test R2:', test_score)\n",
    "    print('rsme:', mean_sq)\n",
    "   \n",
    "    return modelo"
   ]
  },
  {
   "cell_type": "code",
   "execution_count": 80,
   "id": "b10f493e",
   "metadata": {},
   "outputs": [
    {
     "name": "stdout",
     "output_type": "stream",
     "text": [
      "SGDRegressor(max_iter=200)\n",
      "Train R2: -1.0947570542657834e+23\n",
      "Test R2: -2.1142121537339362e+23\n",
      "rsme: 1639484999467394.8\n"
     ]
    }
   ],
   "source": [
    "sgdr=SGDR(max_iter=200)\n",
    "sgdr=regre(sgdr)"
   ]
  },
  {
   "cell_type": "code",
   "execution_count": 81,
   "id": "e6fd1733",
   "metadata": {},
   "outputs": [
    {
     "name": "stdout",
     "output_type": "stream",
     "text": [
      "KNeighborsRegressor(weights='distance')\n",
      "Train R2: 1.0\n",
      "Test R2: 1.0\n",
      "rsme: 150.4255623609488\n"
     ]
    }
   ],
   "source": [
    "knnr=KNNR(n_neighbors=5, weights='distance')\n",
    "knnr=regre(knnr)"
   ]
  },
  {
   "cell_type": "code",
   "execution_count": 82,
   "id": "a5617e36",
   "metadata": {},
   "outputs": [
    {
     "name": "stdout",
     "output_type": "stream",
     "text": [
      "GradientBoostingRegressor(learning_rate=0.2, n_estimators=50)\n",
      "Train R2: 0.6717935863497964\n",
      "Test R2: 0.6237161940878801\n",
      "rsme: 103.60957552117581\n"
     ]
    }
   ],
   "source": [
    "gbr=GBR(n_estimators=50, learning_rate=0.2)\n",
    "gbr=regre(gbr)"
   ]
  },
  {
   "cell_type": "code",
   "execution_count": 83,
   "id": "2c0f22ef",
   "metadata": {},
   "outputs": [
    {
     "name": "stdout",
     "output_type": "stream",
     "text": [
      "XGBRegressor(base_score=0.5, booster='gbtree', colsample_bylevel=1,\n",
      "             colsample_bynode=1, colsample_bytree=1, enable_categorical=False,\n",
      "             gamma=0, gpu_id=-1, importance_type=None,\n",
      "             interaction_constraints='', learning_rate=0.300000012,\n",
      "             max_delta_step=0, max_depth=6, min_child_weight=1, missing=nan,\n",
      "             monotone_constraints='()', n_estimators=100, n_jobs=8,\n",
      "             num_parallel_tree=1, predictor='auto', random_state=0, reg_alpha=0,\n",
      "             reg_lambda=1, scale_pos_weight=1, subsample=1, tree_method='exact',\n",
      "             validate_parameters=1, verbosity=None)\n",
      "Train R2: 0.9721835103255927\n",
      "Test R2: 0.9469559058816966\n",
      "rsme: 105.10686302867839\n"
     ]
    }
   ],
   "source": [
    "xgbr=XGBR()\n",
    "xgbr=regre(xgbr)"
   ]
  },
  {
   "cell_type": "code",
   "execution_count": 84,
   "id": "b0ab6e7f",
   "metadata": {},
   "outputs": [
    {
     "name": "stdout",
     "output_type": "stream",
     "text": [
      "<catboost.core.CatBoostRegressor object at 0x7f4ca8e273a0>\n",
      "Train R2: 0.9233230764463456\n",
      "Test R2: 0.8719071223970235\n",
      "rsme: 104.22759873234577\n"
     ]
    }
   ],
   "source": [
    "ctr=CTR(verbose=0) \n",
    "ctr=regre(ctr)"
   ]
  },
  {
   "cell_type": "code",
   "execution_count": 85,
   "id": "fd8c66c8",
   "metadata": {},
   "outputs": [
    {
     "name": "stdout",
     "output_type": "stream",
     "text": [
      "LGBMRegressor()\n",
      "Train R2: 0.6815271730931303\n",
      "Test R2: 0.7883083841935066\n",
      "rsme: 98.42635831794829\n"
     ]
    }
   ],
   "source": [
    "lgbmr=LGBMR()\n",
    "lgbmr=regre(lgbmr)"
   ]
  },
  {
   "cell_type": "code",
   "execution_count": 86,
   "id": "8675be18",
   "metadata": {},
   "outputs": [
    {
     "name": "stdout",
     "output_type": "stream",
     "text": [
      "RandomForestRegressor(n_estimators=200)\n",
      "Train R2: 0.9270277487213392\n",
      "Test R2: 0.9092501248199266\n",
      "rsme: 113.7666195487989\n"
     ]
    }
   ],
   "source": [
    "rfr=RFR(n_estimators=200)\n",
    "rfr=regre(rfr)"
   ]
  },
  {
   "cell_type": "code",
   "execution_count": 87,
   "id": "9f330b52",
   "metadata": {},
   "outputs": [],
   "source": [
    "X_train, X_test, y_train, y_test = tts(X, y, test_size=0.01, train_size=0.99, random_state=42)"
   ]
  },
  {
   "cell_type": "code",
   "execution_count": 88,
   "id": "5da79872",
   "metadata": {},
   "outputs": [],
   "source": [
    "def prueba_modelo(modelo):\n",
    "\n",
    "    modelo.fit(X_train, y_train)\n",
    "\n",
    "    y_pred=modelo.predict(X_test)\n",
    "\n",
    "    train_score=modelo.score(X_train, y_train)  \n",
    "    test_score=modelo.score(X_test, y_test)\n",
    "    mean_sq=mean_squared_error(y_test, y_pred, squared=False)\n",
    "    \n",
    "    print(modelo)\n",
    "    print('Train:', train_score)\n",
    "    print('Test:', test_score) \n",
    "    print('rsme:', mean_sq)\n",
    "    print('\\n')\n",
    "    "
   ]
  },
  {
   "cell_type": "code",
   "execution_count": 89,
   "id": "b3dc21e8",
   "metadata": {
    "scrolled": true
   },
   "outputs": [
    {
     "name": "stdout",
     "output_type": "stream",
     "text": [
      "LinearRegression()\n",
      "Train: 0.19702919979904532\n",
      "Test: 0.556686759325171\n",
      "rsme: 70.9387991564774\n",
      "\n",
      "\n",
      "Lasso()\n",
      "Train: 0.18088155444152243\n",
      "Test: 0.6248284011043159\n",
      "rsme: 65.25945734941229\n",
      "\n",
      "\n",
      "ElasticNet()\n",
      "Train: 0.14852690621788367\n",
      "Test: 0.5648138564383391\n",
      "rsme: 70.28554399769607\n",
      "\n",
      "\n",
      "SVR()\n",
      "Train: -0.02894823467428731\n",
      "Test: -0.0992268402756975\n",
      "rsme: 111.70487919107869\n",
      "\n",
      "\n",
      "Ridge()\n",
      "Train: 0.1967759205912003\n",
      "Test: 0.6441357873849656\n",
      "rsme: 63.55806090922364\n",
      "\n",
      "\n",
      "SGDRegressor(max_iter=500)\n",
      "Train: -3.073598707668601e+25\n",
      "Test: -7.434575038759521e+25\n",
      "rsme: 918663699354009.5\n",
      "\n",
      "\n",
      "KNeighborsRegressor(weights='distance')\n",
      "Train: 1.0\n",
      "Test: -0.013127882045798955\n",
      "rsme: 107.2409407102493\n",
      "\n",
      "\n",
      "GradientBoostingRegressor(learning_rate=0.2, n_estimators=50)\n",
      "Train: 0.7067025731959993\n",
      "Test: 0.47703391676772644\n",
      "rsme: 77.04868713678965\n",
      "\n",
      "\n",
      "XGBRegressor(base_score=0.5, booster='gbtree', colsample_bylevel=1,\n",
      "             colsample_bynode=1, colsample_bytree=1, enable_categorical=False,\n",
      "             gamma=0, gpu_id=-1, importance_type=None,\n",
      "             interaction_constraints='', learning_rate=0.300000012,\n",
      "             max_delta_step=0, max_depth=6, min_child_weight=1, missing=nan,\n",
      "             monotone_constraints='()', n_estimators=100, n_jobs=8,\n",
      "             num_parallel_tree=1, predictor='auto', random_state=0, reg_alpha=0,\n",
      "             reg_lambda=1, scale_pos_weight=1, subsample=1, tree_method='exact',\n",
      "             validate_parameters=1, verbosity=None)\n",
      "Train: 0.9728094828899438\n",
      "Test: 0.3871621900703035\n",
      "rsme: 83.40676115977547\n",
      "\n",
      "\n",
      "<catboost.core.CatBoostRegressor object at 0x7f4cb29a74f0>\n",
      "Train: 0.917895020707152\n",
      "Test: 0.5092223057155079\n",
      "rsme: 74.63987253512123\n",
      "\n",
      "\n",
      "RandomForestRegressor()\n",
      "Train: 0.9405899725208279\n",
      "Test: 0.21309614299525415\n",
      "rsme: 94.51251459085043\n",
      "\n",
      "\n",
      "LGBMRegressor()\n",
      "Train: 0.6879698911171002\n",
      "Test: 0.6147201852848447\n",
      "rsme: 66.13275410333786\n",
      "\n",
      "\n"
     ]
    }
   ],
   "source": [
    "modelos=[LinReg(), Lasso(), ElasticNet(), SVR(),Ridge(),SGDR(max_iter=500),KNNR(n_neighbors=5, weights='distance'),\n",
    "        GBR(n_estimators=50, learning_rate=0.2),XGBR(),CTR(verbose=0),RFR(n_estimators=100),LGBMR()]\n",
    "\n",
    "for m in modelos:\n",
    "    prueba_modelo(m)"
   ]
  },
  {
   "cell_type": "code",
   "execution_count": 90,
   "id": "73b663aa",
   "metadata": {},
   "outputs": [],
   "source": [
    "def bosque(n):\n",
    "    rfr=RFR(n_estimators=n,max_depth=100)\n",
    "    rfr.fit(X_train, y_train)\n",
    "\n",
    "    y_pred=rfr.predict(X_test)\n",
    "    \n",
    "\n",
    "    train_score=rfr.score(X_train, y_train)  \n",
    "    test_score=rfr.score(X_test, y_test)\n",
    "    mean_sq=mean_squared_error(y_test, y_pred, squared=False)\n",
    "\n",
    "\n",
    "    print('Train:', train_score)\n",
    "    print('Test:', test_score)\n",
    "    print('rsme:', mean_sq)"
   ]
  },
  {
   "cell_type": "code",
   "execution_count": 91,
   "id": "19f3f300",
   "metadata": {},
   "outputs": [
    {
     "name": "stdout",
     "output_type": "stream",
     "text": [
      "Train: 0.6061171919832691\n",
      "Test: 0.3147382242212018\n",
      "rsme: 88.19759336960661\n",
      "2 None\n",
      "Train: 0.9283785701547876\n",
      "Test: 0.12450220450567429\n",
      "rsme: 99.69101311170478\n",
      "5 None\n",
      "Train: 0.9489942400524888\n",
      "Test: 0.35171153436861\n",
      "rsme: 85.78525142415076\n",
      "50 None\n",
      "Train: 0.9426969170994135\n",
      "Test: 0.266547432791005\n",
      "rsme: 91.24613918773038\n",
      "100 None\n",
      "Train: 0.9427431347553815\n",
      "Test: 0.28758634854486465\n",
      "rsme: 89.92793017188819\n",
      "200 None\n"
     ]
    }
   ],
   "source": [
    "for e in [2, 5, 50, 100, 200]:\n",
    "    print(e, bosque(e))"
   ]
  },
  {
   "cell_type": "markdown",
   "id": "a68e3db5",
   "metadata": {},
   "source": [
    "## RESULTS"
   ]
  },
  {
   "cell_type": "code",
   "execution_count": 107,
   "id": "8f4a1a23",
   "metadata": {},
   "outputs": [],
   "source": [
    "X=final.drop('price', axis=1)\n",
    "y=final.price"
   ]
  },
  {
   "cell_type": "code",
   "execution_count": 108,
   "id": "b0af7aff",
   "metadata": {},
   "outputs": [],
   "source": [
    "Test2=pd.read_csv('Data/Test2.csv')"
   ]
  },
  {
   "cell_type": "code",
   "execution_count": 109,
   "id": "49ce73c4",
   "metadata": {},
   "outputs": [],
   "source": [
    "Prices=pd.read_csv('Data/sample.csv')"
   ]
  },
  {
   "cell_type": "markdown",
   "id": "b6b475ff",
   "metadata": {},
   "source": [
    "### 1- 85.45348"
   ]
  },
  {
   "cell_type": "code",
   "execution_count": 110,
   "id": "e0a35d9f",
   "metadata": {},
   "outputs": [],
   "source": [
    "X_train, X_test, y_train, y_test = tts(X, y, test_size=0.2, train_size=0.8, random_state=42)"
   ]
  },
  {
   "cell_type": "code",
   "execution_count": 111,
   "id": "504a07a3",
   "metadata": {},
   "outputs": [
    {
     "name": "stdout",
     "output_type": "stream",
     "text": [
      "<catboost.core.CatBoostRegressor object at 0x7f4ca8e273a0>\n",
      "Train: 0.934857008016852\n",
      "Test: 0.3699030450721015\n",
      "rsme: 92.02662191423667\n",
      "\n",
      "\n"
     ]
    }
   ],
   "source": [
    "modelo=ctr\n",
    "modelo.fit(X_train, y_train)\n",
    "\n",
    "y_pred=modelo.predict(X_test)\n",
    "\n",
    "train_score=modelo.score(X_train, y_train)  \n",
    "test_score=modelo.score(X_test, y_test)\n",
    "mean_sq=mean_squared_error(y_test, y_pred, squared=False)\n",
    "    \n",
    "print(modelo)\n",
    "print('Train:', train_score)\n",
    "print('Test:', test_score) \n",
    "print('rsme:', mean_sq)\n",
    "print('\\n')"
   ]
  },
  {
   "cell_type": "code",
   "execution_count": 112,
   "id": "eee33cbe",
   "metadata": {},
   "outputs": [],
   "source": [
    "modelo= ctr\n",
    "modelo.fit(X,y)\n",
    "y_pred1_2=modelo.predict(Test2) "
   ]
  },
  {
   "cell_type": "code",
   "execution_count": 113,
   "id": "91298337",
   "metadata": {},
   "outputs": [],
   "source": [
    "#Prices['price']=y_pred1_2"
   ]
  },
  {
   "cell_type": "code",
   "execution_count": 114,
   "id": "3e9a1cf0",
   "metadata": {},
   "outputs": [],
   "source": [
    "#Prices.to_csv('sample22_1.csv', index=False)"
   ]
  },
  {
   "cell_type": "code",
   "execution_count": 115,
   "id": "1b7da91c",
   "metadata": {},
   "outputs": [
    {
     "data": {
      "text/html": [
       "<div>\n",
       "<style scoped>\n",
       "    .dataframe tbody tr th:only-of-type {\n",
       "        vertical-align: middle;\n",
       "    }\n",
       "\n",
       "    .dataframe tbody tr th {\n",
       "        vertical-align: top;\n",
       "    }\n",
       "\n",
       "    .dataframe thead th {\n",
       "        text-align: right;\n",
       "    }\n",
       "</style>\n",
       "<table border=\"1\" class=\"dataframe\">\n",
       "  <thead>\n",
       "    <tr style=\"text-align: right;\">\n",
       "      <th></th>\n",
       "      <th>price</th>\n",
       "      <th>id</th>\n",
       "    </tr>\n",
       "  </thead>\n",
       "  <tbody>\n",
       "    <tr>\n",
       "      <th>0</th>\n",
       "      <td>123.707666</td>\n",
       "      <td>0</td>\n",
       "    </tr>\n",
       "    <tr>\n",
       "      <th>1</th>\n",
       "      <td>57.230048</td>\n",
       "      <td>1</td>\n",
       "    </tr>\n",
       "    <tr>\n",
       "      <th>2</th>\n",
       "      <td>101.144545</td>\n",
       "      <td>2</td>\n",
       "    </tr>\n",
       "    <tr>\n",
       "      <th>3</th>\n",
       "      <td>105.690143</td>\n",
       "      <td>3</td>\n",
       "    </tr>\n",
       "    <tr>\n",
       "      <th>4</th>\n",
       "      <td>136.554464</td>\n",
       "      <td>4</td>\n",
       "    </tr>\n",
       "  </tbody>\n",
       "</table>\n",
       "</div>"
      ],
      "text/plain": [
       "        price  id\n",
       "0  123.707666   0\n",
       "1   57.230048   1\n",
       "2  101.144545   2\n",
       "3  105.690143   3\n",
       "4  136.554464   4"
      ]
     },
     "execution_count": 115,
     "metadata": {},
     "output_type": "execute_result"
    }
   ],
   "source": [
    "pd.read_csv('Results/sample22.csv').head(5)"
   ]
  },
  {
   "cell_type": "markdown",
   "id": "93501a19",
   "metadata": {},
   "source": [
    "### 2. 106.06009"
   ]
  },
  {
   "cell_type": "code",
   "execution_count": 116,
   "id": "cc4e3e30",
   "metadata": {},
   "outputs": [],
   "source": [
    "X_train, X_test, y_train, y_test = tts(X, y, test_size=0.2, train_size=0.8, random_state=42)"
   ]
  },
  {
   "cell_type": "code",
   "execution_count": 117,
   "id": "40563a5d",
   "metadata": {},
   "outputs": [
    {
     "name": "stdout",
     "output_type": "stream",
     "text": [
      "LGBMRegressor()\n",
      "Train R2: 0.7067465164139509\n",
      "Test R2: 0.40613783305042817\n",
      "rsme: 89.34137235364584\n"
     ]
    }
   ],
   "source": [
    "modelo=lgbmr\n",
    "\n",
    "modelo.fit(X_train, y_train)\n",
    "y_pred=modelo.predict(X_test)\n",
    "\n",
    "\n",
    "train_score=modelo.score(X_train, y_train)  \n",
    "test_score=modelo.score(X_test, y_test)\n",
    "mean_sq=mean_squared_error(y_test, y_pred, squared=False)\n",
    "      \n",
    "print(modelo)\n",
    "print('Train R2:', train_score)\n",
    "print('Test R2:', test_score)\n",
    "print('rsme:', mean_sq)\n",
    "   \n"
   ]
  },
  {
   "cell_type": "code",
   "execution_count": 118,
   "id": "91fd86dd",
   "metadata": {},
   "outputs": [
    {
     "data": {
      "text/html": [
       "<div>\n",
       "<style scoped>\n",
       "    .dataframe tbody tr th:only-of-type {\n",
       "        vertical-align: middle;\n",
       "    }\n",
       "\n",
       "    .dataframe tbody tr th {\n",
       "        vertical-align: top;\n",
       "    }\n",
       "\n",
       "    .dataframe thead th {\n",
       "        text-align: right;\n",
       "    }\n",
       "</style>\n",
       "<table border=\"1\" class=\"dataframe\">\n",
       "  <thead>\n",
       "    <tr style=\"text-align: right;\">\n",
       "      <th></th>\n",
       "      <th>price</th>\n",
       "      <th>id</th>\n",
       "    </tr>\n",
       "  </thead>\n",
       "  <tbody>\n",
       "    <tr>\n",
       "      <th>0</th>\n",
       "      <td>122.910793</td>\n",
       "      <td>0</td>\n",
       "    </tr>\n",
       "    <tr>\n",
       "      <th>1</th>\n",
       "      <td>88.078806</td>\n",
       "      <td>1</td>\n",
       "    </tr>\n",
       "    <tr>\n",
       "      <th>2</th>\n",
       "      <td>112.680638</td>\n",
       "      <td>2</td>\n",
       "    </tr>\n",
       "    <tr>\n",
       "      <th>3</th>\n",
       "      <td>96.888045</td>\n",
       "      <td>3</td>\n",
       "    </tr>\n",
       "    <tr>\n",
       "      <th>4</th>\n",
       "      <td>128.692170</td>\n",
       "      <td>4</td>\n",
       "    </tr>\n",
       "  </tbody>\n",
       "</table>\n",
       "</div>"
      ],
      "text/plain": [
       "        price  id\n",
       "0  122.910793   0\n",
       "1   88.078806   1\n",
       "2  112.680638   2\n",
       "3   96.888045   3\n",
       "4  128.692170   4"
      ]
     },
     "execution_count": 118,
     "metadata": {},
     "output_type": "execute_result"
    }
   ],
   "source": [
    "pd.read_csv('Results/sample22_2.csv').head(5)"
   ]
  },
  {
   "cell_type": "markdown",
   "id": "5596a404",
   "metadata": {},
   "source": [
    "### 3.1 - 97.25429 (n=10)"
   ]
  },
  {
   "cell_type": "code",
   "execution_count": 119,
   "id": "63e30c83",
   "metadata": {},
   "outputs": [],
   "source": [
    "features=list(final.columns)\n",
    "features.remove('price')"
   ]
  },
  {
   "cell_type": "code",
   "execution_count": 120,
   "id": "7faf5b51",
   "metadata": {},
   "outputs": [],
   "source": [
    "features=features\n",
    "target='price'"
   ]
  },
  {
   "cell_type": "code",
   "execution_count": 121,
   "id": "8c42bcbc",
   "metadata": {},
   "outputs": [],
   "source": [
    "X_train, X_test, y_train, y_test = tts(final[features], final[target])"
   ]
  },
  {
   "cell_type": "code",
   "execution_count": 122,
   "id": "27d5f588",
   "metadata": {},
   "outputs": [
    {
     "data": {
      "text/plain": [
       "RFE(estimator=<catboost.core.CatBoostRegressor object at 0x7f4ca8dbceb0>,\n",
       "    n_features_to_select=10)"
      ]
     },
     "execution_count": 122,
     "metadata": {},
     "output_type": "execute_result"
    }
   ],
   "source": [
    "modelo=CTR(verbose=0)\n",
    "selector=RFE(modelo, n_features_to_select=10, step=1)\n",
    "selector.fit(X_train, y_train)"
   ]
  },
  {
   "cell_type": "code",
   "execution_count": 123,
   "id": "a3564986",
   "metadata": {},
   "outputs": [
    {
     "data": {
      "text/plain": [
       "['id',\n",
       " 'accommodates',\n",
       " 'bedrooms',\n",
       " 'minimum_nights',\n",
       " 'maximum_nights',\n",
       " 'availability_90',\n",
       " 'number_of_reviews',\n",
       " 'review_scores_rating',\n",
       " 'calculated_host_listings_count',\n",
       " 'room_type_Private room']"
      ]
     },
     "execution_count": 123,
     "metadata": {},
     "output_type": "execute_result"
    }
   ],
   "source": [
    "[features[i] for i,e in enumerate(selector.support_) if e] # las mas importantes"
   ]
  },
  {
   "cell_type": "code",
   "execution_count": 124,
   "id": "7a11d2f8",
   "metadata": {},
   "outputs": [],
   "source": [
    "X_train_s, X_test_s, y_train_s, y_test_s = tts(final[[features[i] for i,e in enumerate(selector.support_) if e]], \n",
    "                                       final[target])"
   ]
  },
  {
   "cell_type": "code",
   "execution_count": 125,
   "id": "83a5ed01",
   "metadata": {},
   "outputs": [],
   "source": [
    "ctr=CTR(verbose=0)"
   ]
  },
  {
   "cell_type": "code",
   "execution_count": 126,
   "id": "e52ab483",
   "metadata": {},
   "outputs": [],
   "source": [
    "modelo=CTR()\n",
    "ctr.fit(X_train_s, y_train_s)\n",
    "y_pred=ctr.predict(X_test_s)"
   ]
  },
  {
   "cell_type": "code",
   "execution_count": 127,
   "id": "80ca5a29",
   "metadata": {},
   "outputs": [
    {
     "name": "stdout",
     "output_type": "stream",
     "text": [
      "Train R2: 0.9007858636064472\n",
      "Test R2: 0.4190627194198089\n",
      "rsme: 179.16728948428545\n"
     ]
    }
   ],
   "source": [
    "train_score=ctr.score(X_train_s, y_train_s)  \n",
    "test_score=ctr.score(X_test_s, y_test_s)\n",
    "mean_sq=mean_squared_error(y_test_s, y_pred, squared=False)\n",
    "\n",
    "print('Train R2:', train_score)\n",
    "print('Test R2:', test_score)\n",
    "print('rsme:', mean_sq)"
   ]
  },
  {
   "cell_type": "code",
   "execution_count": 128,
   "id": "c1299a45",
   "metadata": {},
   "outputs": [
    {
     "data": {
      "text/html": [
       "<div>\n",
       "<style scoped>\n",
       "    .dataframe tbody tr th:only-of-type {\n",
       "        vertical-align: middle;\n",
       "    }\n",
       "\n",
       "    .dataframe tbody tr th {\n",
       "        vertical-align: top;\n",
       "    }\n",
       "\n",
       "    .dataframe thead th {\n",
       "        text-align: right;\n",
       "    }\n",
       "</style>\n",
       "<table border=\"1\" class=\"dataframe\">\n",
       "  <thead>\n",
       "    <tr style=\"text-align: right;\">\n",
       "      <th></th>\n",
       "      <th>price</th>\n",
       "      <th>id</th>\n",
       "    </tr>\n",
       "  </thead>\n",
       "  <tbody>\n",
       "    <tr>\n",
       "      <th>0</th>\n",
       "      <td>96.304103</td>\n",
       "      <td>0</td>\n",
       "    </tr>\n",
       "    <tr>\n",
       "      <th>1</th>\n",
       "      <td>103.959333</td>\n",
       "      <td>1</td>\n",
       "    </tr>\n",
       "    <tr>\n",
       "      <th>2</th>\n",
       "      <td>115.576337</td>\n",
       "      <td>2</td>\n",
       "    </tr>\n",
       "    <tr>\n",
       "      <th>3</th>\n",
       "      <td>105.959143</td>\n",
       "      <td>3</td>\n",
       "    </tr>\n",
       "    <tr>\n",
       "      <th>4</th>\n",
       "      <td>174.144506</td>\n",
       "      <td>4</td>\n",
       "    </tr>\n",
       "  </tbody>\n",
       "</table>\n",
       "</div>"
      ],
      "text/plain": [
       "        price  id\n",
       "0   96.304103   0\n",
       "1  103.959333   1\n",
       "2  115.576337   2\n",
       "3  105.959143   3\n",
       "4  174.144506   4"
      ]
     },
     "execution_count": 128,
     "metadata": {},
     "output_type": "execute_result"
    }
   ],
   "source": [
    "pd.read_csv('Results/sample22_4.csv').head(5) #n=10"
   ]
  },
  {
   "cell_type": "markdown",
   "id": "8ef988fe",
   "metadata": {},
   "source": [
    "### 3.2 - 92.50012 (n=15)"
   ]
  },
  {
   "cell_type": "code",
   "execution_count": 129,
   "id": "769e6660",
   "metadata": {},
   "outputs": [],
   "source": [
    "#n=15"
   ]
  },
  {
   "cell_type": "code",
   "execution_count": 130,
   "id": "0807dc5a",
   "metadata": {},
   "outputs": [],
   "source": [
    "features=list(final.columns)\n",
    "features.remove('price')"
   ]
  },
  {
   "cell_type": "code",
   "execution_count": 131,
   "id": "41218b43",
   "metadata": {},
   "outputs": [],
   "source": [
    "features=features\n",
    "target='price'"
   ]
  },
  {
   "cell_type": "code",
   "execution_count": 132,
   "id": "6e9489e8",
   "metadata": {},
   "outputs": [],
   "source": [
    "X_train, X_test, y_train, y_test = tts(final[features], final[target])"
   ]
  },
  {
   "cell_type": "code",
   "execution_count": 133,
   "id": "bf233c3e",
   "metadata": {},
   "outputs": [
    {
     "data": {
      "text/plain": [
       "RFE(estimator=<catboost.core.CatBoostRegressor object at 0x7f4cb375ea00>,\n",
       "    n_features_to_select=15)"
      ]
     },
     "execution_count": 133,
     "metadata": {},
     "output_type": "execute_result"
    }
   ],
   "source": [
    "modelo=CTR(verbose=0)\n",
    "selector=RFE(modelo, n_features_to_select=15, step=1)\n",
    "selector.fit(X_train, y_train)"
   ]
  },
  {
   "cell_type": "code",
   "execution_count": 134,
   "id": "7ca14b17",
   "metadata": {},
   "outputs": [
    {
     "data": {
      "text/plain": [
       "['id',\n",
       " 'accommodates',\n",
       " 'bedrooms',\n",
       " 'minimum_nights',\n",
       " 'maximum_nights',\n",
       " 'availability_90',\n",
       " 'number_of_reviews',\n",
       " 'review_scores_rating',\n",
       " 'calculated_host_listings_count',\n",
       " 'neighbourhood_cleansed_Centrum-Oost',\n",
       " 'neighbourhood_cleansed_Centrum-West',\n",
       " 'property_type_hotel',\n",
       " 'property_type_house',\n",
       " 'room_type_Private room',\n",
       " 'bathrooms_text_1']"
      ]
     },
     "execution_count": 134,
     "metadata": {},
     "output_type": "execute_result"
    }
   ],
   "source": [
    "[features[i] for i,e in enumerate(selector.support_) if e] "
   ]
  },
  {
   "cell_type": "code",
   "execution_count": 135,
   "id": "fc118896",
   "metadata": {},
   "outputs": [],
   "source": [
    "X_train_r, X_test_r, y_train_r, y_test_r = tts(final[[features[i] for i,e in enumerate(selector.support_) if e]], \n",
    "                                       final[target])"
   ]
  },
  {
   "cell_type": "code",
   "execution_count": 136,
   "id": "294511a5",
   "metadata": {},
   "outputs": [],
   "source": [
    "ctr=CTR(verbose=0)"
   ]
  },
  {
   "cell_type": "code",
   "execution_count": 137,
   "id": "d2ce141d",
   "metadata": {},
   "outputs": [],
   "source": [
    "modelo=CTR()\n",
    "ctr.fit(X_train_r, y_train_r)\n",
    "y_pred=ctr.predict(X_test_r)"
   ]
  },
  {
   "cell_type": "code",
   "execution_count": 138,
   "id": "417703a0",
   "metadata": {},
   "outputs": [
    {
     "name": "stdout",
     "output_type": "stream",
     "text": [
      "Train R2: 0.8586036669861241\n",
      "Test R2: 0.6843683866709945\n",
      "rsme: 158.2565771932427\n"
     ]
    }
   ],
   "source": [
    "train_score=ctr.score(X_train, y_train) \n",
    "test_score=ctr.score(X_test, y_test)\n",
    "mean_sq=mean_squared_error(y_test, y_pred, squared=False)\n",
    "\n",
    "print('Train R2:', train_score)\n",
    "print('Test R2:', test_score)\n",
    "print('rsme:', mean_sq)\n"
   ]
  },
  {
   "cell_type": "code",
   "execution_count": 139,
   "id": "f88f3ee1",
   "metadata": {},
   "outputs": [
    {
     "data": {
      "text/html": [
       "<div>\n",
       "<style scoped>\n",
       "    .dataframe tbody tr th:only-of-type {\n",
       "        vertical-align: middle;\n",
       "    }\n",
       "\n",
       "    .dataframe tbody tr th {\n",
       "        vertical-align: top;\n",
       "    }\n",
       "\n",
       "    .dataframe thead th {\n",
       "        text-align: right;\n",
       "    }\n",
       "</style>\n",
       "<table border=\"1\" class=\"dataframe\">\n",
       "  <thead>\n",
       "    <tr style=\"text-align: right;\">\n",
       "      <th></th>\n",
       "      <th>price</th>\n",
       "      <th>id</th>\n",
       "    </tr>\n",
       "  </thead>\n",
       "  <tbody>\n",
       "    <tr>\n",
       "      <th>0</th>\n",
       "      <td>107.021152</td>\n",
       "      <td>0</td>\n",
       "    </tr>\n",
       "    <tr>\n",
       "      <th>1</th>\n",
       "      <td>89.451415</td>\n",
       "      <td>1</td>\n",
       "    </tr>\n",
       "    <tr>\n",
       "      <th>2</th>\n",
       "      <td>100.000436</td>\n",
       "      <td>2</td>\n",
       "    </tr>\n",
       "    <tr>\n",
       "      <th>3</th>\n",
       "      <td>102.860661</td>\n",
       "      <td>3</td>\n",
       "    </tr>\n",
       "    <tr>\n",
       "      <th>4</th>\n",
       "      <td>131.138519</td>\n",
       "      <td>4</td>\n",
       "    </tr>\n",
       "  </tbody>\n",
       "</table>\n",
       "</div>"
      ],
      "text/plain": [
       "        price  id\n",
       "0  107.021152   0\n",
       "1   89.451415   1\n",
       "2  100.000436   2\n",
       "3  102.860661   3\n",
       "4  131.138519   4"
      ]
     },
     "execution_count": 139,
     "metadata": {},
     "output_type": "execute_result"
    }
   ],
   "source": [
    "pd.read_csv('Results/sample22_3.csv').head(5) #n=15"
   ]
  },
  {
   "cell_type": "code",
   "execution_count": 140,
   "id": "28c5ac4e",
   "metadata": {},
   "outputs": [
    {
     "name": "stdout",
     "output_type": "stream",
     "text": [
      "Train R2: 0.9378243464685919\n",
      "Test R2: 0.0633664620542761\n",
      "rsme: 114.69033862968043\n"
     ]
    }
   ],
   "source": [
    "train_score=ctr.score(X_train_r, y_train_r)  \n",
    "test_score=ctr.score(X_test_r, y_test_r)\n",
    "mean_sq=mean_squared_error(y_test_r, y_pred, squared=False)\n",
    "\n",
    "print('Train R2:', train_score)\n",
    "print('Test R2:', test_score)\n",
    "print('rsme:', mean_sq)"
   ]
  },
  {
   "cell_type": "markdown",
   "id": "f5250d67",
   "metadata": {},
   "source": [
    "#### 4.1 - 88.36963"
   ]
  },
  {
   "cell_type": "code",
   "execution_count": 141,
   "id": "b48c9143",
   "metadata": {},
   "outputs": [],
   "source": [
    "X_train, X_test, y_train, y_test = tts(X, y, test_size=0.1, train_size=0.9, random_state=42)"
   ]
  },
  {
   "cell_type": "code",
   "execution_count": 142,
   "id": "b59615ec",
   "metadata": {},
   "outputs": [
    {
     "name": "stdout",
     "output_type": "stream",
     "text": [
      "XGBRegressor(base_score=0.5, booster='gbtree', colsample_bylevel=1,\n",
      "             colsample_bynode=1, colsample_bytree=1, enable_categorical=False,\n",
      "             gamma=0, gpu_id=-1, importance_type=None,\n",
      "             interaction_constraints='', learning_rate=0.300000012,\n",
      "             max_delta_step=0, max_depth=6, min_child_weight=1, missing=nan,\n",
      "             monotone_constraints='()', n_estimators=100, n_jobs=8,\n",
      "             num_parallel_tree=1, predictor='auto', random_state=0, reg_alpha=0,\n",
      "             reg_lambda=1, scale_pos_weight=1, subsample=1, tree_method='exact',\n",
      "             validate_parameters=1, verbosity=None)\n",
      "Train: 0.9773132815947912\n",
      "Test: 0.41518084627178053\n",
      "rsme: 105.10686302867839\n",
      "\n",
      "\n"
     ]
    }
   ],
   "source": [
    "xgbr=XGBR()\n",
    "modelo=xgbr  \n",
    "modelo.fit(X_train, y_train)\n",
    "\n",
    "y_pred=modelo.predict(X_test)\n",
    "\n",
    "train_score=modelo.score(X_train, y_train)  \n",
    "test_score=modelo.score(X_test, y_test)\n",
    "mean_sq=mean_squared_error(y_test, y_pred, squared=False)\n",
    "    \n",
    "print(modelo)\n",
    "print('Train:', train_score)\n",
    "print('Test:', test_score) \n",
    "print('rsme:', mean_sq)\n",
    "print('\\n')"
   ]
  },
  {
   "cell_type": "code",
   "execution_count": 143,
   "id": "6e1c87ad",
   "metadata": {},
   "outputs": [
    {
     "data": {
      "text/html": [
       "<div>\n",
       "<style scoped>\n",
       "    .dataframe tbody tr th:only-of-type {\n",
       "        vertical-align: middle;\n",
       "    }\n",
       "\n",
       "    .dataframe tbody tr th {\n",
       "        vertical-align: top;\n",
       "    }\n",
       "\n",
       "    .dataframe thead th {\n",
       "        text-align: right;\n",
       "    }\n",
       "</style>\n",
       "<table border=\"1\" class=\"dataframe\">\n",
       "  <thead>\n",
       "    <tr style=\"text-align: right;\">\n",
       "      <th></th>\n",
       "      <th>price</th>\n",
       "      <th>id</th>\n",
       "    </tr>\n",
       "  </thead>\n",
       "  <tbody>\n",
       "    <tr>\n",
       "      <th>0</th>\n",
       "      <td>100.782128</td>\n",
       "      <td>0</td>\n",
       "    </tr>\n",
       "    <tr>\n",
       "      <th>1</th>\n",
       "      <td>110.072150</td>\n",
       "      <td>1</td>\n",
       "    </tr>\n",
       "    <tr>\n",
       "      <th>2</th>\n",
       "      <td>104.195276</td>\n",
       "      <td>2</td>\n",
       "    </tr>\n",
       "    <tr>\n",
       "      <th>3</th>\n",
       "      <td>117.388409</td>\n",
       "      <td>3</td>\n",
       "    </tr>\n",
       "    <tr>\n",
       "      <th>4</th>\n",
       "      <td>134.596365</td>\n",
       "      <td>4</td>\n",
       "    </tr>\n",
       "  </tbody>\n",
       "</table>\n",
       "</div>"
      ],
      "text/plain": [
       "        price  id\n",
       "0  100.782128   0\n",
       "1  110.072150   1\n",
       "2  104.195276   2\n",
       "3  117.388409   3\n",
       "4  134.596365   4"
      ]
     },
     "execution_count": 143,
     "metadata": {},
     "output_type": "execute_result"
    }
   ],
   "source": [
    "pd.read_csv('Results/sample23_1.csv').head(5)"
   ]
  },
  {
   "cell_type": "code",
   "execution_count": null,
   "id": "780f0c0b",
   "metadata": {},
   "outputs": [],
   "source": []
  },
  {
   "cell_type": "markdown",
   "id": "726106ff",
   "metadata": {},
   "source": [
    "### 4.2 - 106.37766"
   ]
  },
  {
   "cell_type": "code",
   "execution_count": 144,
   "id": "4000d4ba",
   "metadata": {},
   "outputs": [],
   "source": [
    "X_train, X_test, y_train, y_test = tts(X, y, test_size=0.1, train_size=0.9, random_state=42)"
   ]
  },
  {
   "cell_type": "code",
   "execution_count": 145,
   "id": "8d9aec6a",
   "metadata": {},
   "outputs": [
    {
     "name": "stdout",
     "output_type": "stream",
     "text": [
      "LGBMRegressor()\n",
      "Train: 0.6692602958486822\n",
      "Test: 0.4871595497794894\n",
      "rsme: 98.42635831794829\n",
      "\n",
      "\n"
     ]
    }
   ],
   "source": [
    "lgbmr=LGBMR()\n",
    "modelo=lgbmr \n",
    "modelo.fit(X_train, y_train)\n",
    "\n",
    "y_pred=modelo.predict(X_test)\n",
    "\n",
    "train_score=modelo.score(X_train, y_train)  \n",
    "test_score=modelo.score(X_test, y_test)\n",
    "mean_sq=mean_squared_error(y_test, y_pred, squared=False)\n",
    "    \n",
    "print(modelo)\n",
    "print('Train:', train_score)\n",
    "print('Test:', test_score) \n",
    "print('rsme:', mean_sq)\n",
    "print('\\n')"
   ]
  },
  {
   "cell_type": "code",
   "execution_count": 146,
   "id": "62abdf0b",
   "metadata": {},
   "outputs": [
    {
     "data": {
      "text/html": [
       "<div>\n",
       "<style scoped>\n",
       "    .dataframe tbody tr th:only-of-type {\n",
       "        vertical-align: middle;\n",
       "    }\n",
       "\n",
       "    .dataframe tbody tr th {\n",
       "        vertical-align: top;\n",
       "    }\n",
       "\n",
       "    .dataframe thead th {\n",
       "        text-align: right;\n",
       "    }\n",
       "</style>\n",
       "<table border=\"1\" class=\"dataframe\">\n",
       "  <thead>\n",
       "    <tr style=\"text-align: right;\">\n",
       "      <th></th>\n",
       "      <th>price</th>\n",
       "      <th>id</th>\n",
       "    </tr>\n",
       "  </thead>\n",
       "  <tbody>\n",
       "    <tr>\n",
       "      <th>0</th>\n",
       "      <td>152.164060</td>\n",
       "      <td>0</td>\n",
       "    </tr>\n",
       "    <tr>\n",
       "      <th>1</th>\n",
       "      <td>73.581130</td>\n",
       "      <td>1</td>\n",
       "    </tr>\n",
       "    <tr>\n",
       "      <th>2</th>\n",
       "      <td>103.321976</td>\n",
       "      <td>2</td>\n",
       "    </tr>\n",
       "    <tr>\n",
       "      <th>3</th>\n",
       "      <td>113.603550</td>\n",
       "      <td>3</td>\n",
       "    </tr>\n",
       "    <tr>\n",
       "      <th>4</th>\n",
       "      <td>134.113240</td>\n",
       "      <td>4</td>\n",
       "    </tr>\n",
       "  </tbody>\n",
       "</table>\n",
       "</div>"
      ],
      "text/plain": [
       "        price  id\n",
       "0  152.164060   0\n",
       "1   73.581130   1\n",
       "2  103.321976   2\n",
       "3  113.603550   3\n",
       "4  134.113240   4"
      ]
     },
     "execution_count": 146,
     "metadata": {},
     "output_type": "execute_result"
    }
   ],
   "source": [
    "pd.read_csv('Results/sample23_2.csv').head(5)"
   ]
  },
  {
   "cell_type": "markdown",
   "id": "f6de887d",
   "metadata": {},
   "source": [
    "### 5. 89.19872"
   ]
  },
  {
   "cell_type": "code",
   "execution_count": 147,
   "id": "c281c63d",
   "metadata": {},
   "outputs": [],
   "source": [
    "X_train, X_test, y_train, y_test = tts(X, y, test_size=0.01, train_size=0.99, random_state=42)"
   ]
  },
  {
   "cell_type": "code",
   "execution_count": 148,
   "id": "ca63e606",
   "metadata": {},
   "outputs": [
    {
     "name": "stdout",
     "output_type": "stream",
     "text": [
      "XGBRegressor(base_score=0.5, booster='gbtree', colsample_bylevel=1,\n",
      "             colsample_bynode=1, colsample_bytree=1, enable_categorical=False,\n",
      "             gamma=0, gpu_id=-1, importance_type=None,\n",
      "             interaction_constraints='', learning_rate=0.300000012,\n",
      "             max_delta_step=0, max_depth=6, min_child_weight=1, missing=nan,\n",
      "             monotone_constraints='()', n_estimators=100, n_jobs=8,\n",
      "             num_parallel_tree=1, predictor='auto', random_state=0, reg_alpha=0,\n",
      "             reg_lambda=1, scale_pos_weight=1, subsample=1, tree_method='exact',\n",
      "             validate_parameters=1, verbosity=None)\n",
      "Train: 0.9707998233636521\n",
      "Test: 0.9485792516647035\n",
      "rsme: 83.40676115977547\n",
      "\n",
      "\n"
     ]
    }
   ],
   "source": [
    "modelo=XGBR()\n",
    "modelo.fit(X_train, y_train)\n",
    "\n",
    "y_pred=modelo.predict(X_test)\n",
    "modelo.fit(X,y)\n",
    "\n",
    "train_score=modelo.score(X_train, y_train)  \n",
    "test_score=modelo.score(X_test, y_test)\n",
    "mean_sq=mean_squared_error(y_test, y_pred, squared=False)\n",
    "    \n",
    "print(modelo)\n",
    "print('Train:', train_score)\n",
    "print('Test:', test_score) \n",
    "print('rsme:', mean_sq)\n",
    "print('\\n')"
   ]
  },
  {
   "cell_type": "code",
   "execution_count": 149,
   "id": "12803189",
   "metadata": {},
   "outputs": [
    {
     "data": {
      "text/html": [
       "<div>\n",
       "<style scoped>\n",
       "    .dataframe tbody tr th:only-of-type {\n",
       "        vertical-align: middle;\n",
       "    }\n",
       "\n",
       "    .dataframe tbody tr th {\n",
       "        vertical-align: top;\n",
       "    }\n",
       "\n",
       "    .dataframe thead th {\n",
       "        text-align: right;\n",
       "    }\n",
       "</style>\n",
       "<table border=\"1\" class=\"dataframe\">\n",
       "  <thead>\n",
       "    <tr style=\"text-align: right;\">\n",
       "      <th></th>\n",
       "      <th>price</th>\n",
       "      <th>id</th>\n",
       "    </tr>\n",
       "  </thead>\n",
       "  <tbody>\n",
       "    <tr>\n",
       "      <th>0</th>\n",
       "      <td>89.595160</td>\n",
       "      <td>0</td>\n",
       "    </tr>\n",
       "    <tr>\n",
       "      <th>1</th>\n",
       "      <td>45.627087</td>\n",
       "      <td>1</td>\n",
       "    </tr>\n",
       "    <tr>\n",
       "      <th>2</th>\n",
       "      <td>139.014020</td>\n",
       "      <td>2</td>\n",
       "    </tr>\n",
       "    <tr>\n",
       "      <th>3</th>\n",
       "      <td>116.723625</td>\n",
       "      <td>3</td>\n",
       "    </tr>\n",
       "    <tr>\n",
       "      <th>4</th>\n",
       "      <td>90.860640</td>\n",
       "      <td>4</td>\n",
       "    </tr>\n",
       "  </tbody>\n",
       "</table>\n",
       "</div>"
      ],
      "text/plain": [
       "        price  id\n",
       "0   89.595160   0\n",
       "1   45.627087   1\n",
       "2  139.014020   2\n",
       "3  116.723625   3\n",
       "4   90.860640   4"
      ]
     },
     "execution_count": 149,
     "metadata": {},
     "output_type": "execute_result"
    }
   ],
   "source": [
    "pd.read_csv('Results/sample23_4.csv').head(5)"
   ]
  },
  {
   "cell_type": "markdown",
   "id": "fcbe6439",
   "metadata": {},
   "source": [
    "### 6. 91.45828"
   ]
  },
  {
   "cell_type": "code",
   "execution_count": 150,
   "id": "2747ec2e",
   "metadata": {},
   "outputs": [],
   "source": [
    "X_train, X_test, y_train, y_test = tts(X, y, test_size=0.1, train_size=0.9, random_state=42)"
   ]
  },
  {
   "cell_type": "code",
   "execution_count": 151,
   "id": "ed9744b1",
   "metadata": {},
   "outputs": [
    {
     "name": "stdout",
     "output_type": "stream",
     "text": [
      "RandomForestRegressor()\n",
      "Train R2: 0.9270718818895404\n",
      "Test R2: 0.9146851483725049\n",
      "rsme: 112.40339276479145\n"
     ]
    }
   ],
   "source": [
    "modelo=RFR(n_estimators=100)\n",
    "\n",
    "modelo.fit(X_train, y_train)\n",
    "y_pred=modelo.predict(X_test)\n",
    "modelo.fit(X,y)\n",
    "\n",
    "train_score=modelo.score(X_train, y_train)  \n",
    "test_score=modelo.score(X_test, y_test)\n",
    "mean_sq=mean_squared_error(y_test, y_pred, squared=False)\n",
    "      \n",
    "print(modelo)\n",
    "print('Train R2:', train_score)\n",
    "print('Test R2:', test_score)\n",
    "print('rsme:', mean_sq)"
   ]
  },
  {
   "cell_type": "code",
   "execution_count": 152,
   "id": "3f7274e4",
   "metadata": {},
   "outputs": [
    {
     "data": {
      "text/html": [
       "<div>\n",
       "<style scoped>\n",
       "    .dataframe tbody tr th:only-of-type {\n",
       "        vertical-align: middle;\n",
       "    }\n",
       "\n",
       "    .dataframe tbody tr th {\n",
       "        vertical-align: top;\n",
       "    }\n",
       "\n",
       "    .dataframe thead th {\n",
       "        text-align: right;\n",
       "    }\n",
       "</style>\n",
       "<table border=\"1\" class=\"dataframe\">\n",
       "  <thead>\n",
       "    <tr style=\"text-align: right;\">\n",
       "      <th></th>\n",
       "      <th>price</th>\n",
       "      <th>id</th>\n",
       "    </tr>\n",
       "  </thead>\n",
       "  <tbody>\n",
       "    <tr>\n",
       "      <th>0</th>\n",
       "      <td>175.95</td>\n",
       "      <td>0</td>\n",
       "    </tr>\n",
       "    <tr>\n",
       "      <th>1</th>\n",
       "      <td>120.82</td>\n",
       "      <td>1</td>\n",
       "    </tr>\n",
       "    <tr>\n",
       "      <th>2</th>\n",
       "      <td>110.82</td>\n",
       "      <td>2</td>\n",
       "    </tr>\n",
       "    <tr>\n",
       "      <th>3</th>\n",
       "      <td>101.02</td>\n",
       "      <td>3</td>\n",
       "    </tr>\n",
       "    <tr>\n",
       "      <th>4</th>\n",
       "      <td>146.09</td>\n",
       "      <td>4</td>\n",
       "    </tr>\n",
       "  </tbody>\n",
       "</table>\n",
       "</div>"
      ],
      "text/plain": [
       "    price  id\n",
       "0  175.95   0\n",
       "1  120.82   1\n",
       "2  110.82   2\n",
       "3  101.02   3\n",
       "4  146.09   4"
      ]
     },
     "execution_count": 152,
     "metadata": {},
     "output_type": "execute_result"
    }
   ],
   "source": [
    "pd.read_csv('Results/sample23_3.csv').head(5)"
   ]
  },
  {
   "cell_type": "markdown",
   "id": "24458d79",
   "metadata": {},
   "source": [
    "### 7. 106.37766"
   ]
  },
  {
   "cell_type": "code",
   "execution_count": 153,
   "id": "b33c9a33",
   "metadata": {},
   "outputs": [],
   "source": [
    "X_train, X_test, y_train, y_test = tts(X, y, test_size=0.01, train_size=0.99, random_state=42)"
   ]
  },
  {
   "cell_type": "code",
   "execution_count": 154,
   "id": "dea1a3bc",
   "metadata": {},
   "outputs": [
    {
     "name": "stdout",
     "output_type": "stream",
     "text": [
      "LGBMRegressor()\n",
      "Train: 0.6879698911171002\n",
      "Test: 0.6147201852848447\n",
      "rsme: 66.13275410333786\n",
      "\n",
      "\n"
     ]
    }
   ],
   "source": [
    "lgbmr=LGBMR()\n",
    "modelo=lgbmr \n",
    "\n",
    "modelo.fit(X_train, y_train)\n",
    "y_pred=modelo.predict(X_test)\n",
    "\n",
    "train_score=modelo.score(X_train, y_train)  \n",
    "test_score=modelo.score(X_test, y_test)\n",
    "mean_sq=mean_squared_error(y_test, y_pred, squared=False)\n",
    "    \n",
    "print(modelo)\n",
    "print('Train:', train_score)\n",
    "print('Test:', test_score) \n",
    "print('rsme:', mean_sq)\n",
    "print('\\n')\n",
    "    "
   ]
  },
  {
   "cell_type": "code",
   "execution_count": 155,
   "id": "2ac6eadd",
   "metadata": {},
   "outputs": [
    {
     "data": {
      "text/html": [
       "<div>\n",
       "<style scoped>\n",
       "    .dataframe tbody tr th:only-of-type {\n",
       "        vertical-align: middle;\n",
       "    }\n",
       "\n",
       "    .dataframe tbody tr th {\n",
       "        vertical-align: top;\n",
       "    }\n",
       "\n",
       "    .dataframe thead th {\n",
       "        text-align: right;\n",
       "    }\n",
       "</style>\n",
       "<table border=\"1\" class=\"dataframe\">\n",
       "  <thead>\n",
       "    <tr style=\"text-align: right;\">\n",
       "      <th></th>\n",
       "      <th>price</th>\n",
       "      <th>id</th>\n",
       "    </tr>\n",
       "  </thead>\n",
       "  <tbody>\n",
       "    <tr>\n",
       "      <th>0</th>\n",
       "      <td>100.782128</td>\n",
       "      <td>0</td>\n",
       "    </tr>\n",
       "    <tr>\n",
       "      <th>1</th>\n",
       "      <td>110.072150</td>\n",
       "      <td>1</td>\n",
       "    </tr>\n",
       "    <tr>\n",
       "      <th>2</th>\n",
       "      <td>104.195276</td>\n",
       "      <td>2</td>\n",
       "    </tr>\n",
       "    <tr>\n",
       "      <th>3</th>\n",
       "      <td>117.388409</td>\n",
       "      <td>3</td>\n",
       "    </tr>\n",
       "    <tr>\n",
       "      <th>4</th>\n",
       "      <td>134.596365</td>\n",
       "      <td>4</td>\n",
       "    </tr>\n",
       "  </tbody>\n",
       "</table>\n",
       "</div>"
      ],
      "text/plain": [
       "        price  id\n",
       "0  100.782128   0\n",
       "1  110.072150   1\n",
       "2  104.195276   2\n",
       "3  117.388409   3\n",
       "4  134.596365   4"
      ]
     },
     "execution_count": 155,
     "metadata": {},
     "output_type": "execute_result"
    }
   ],
   "source": [
    "pd.read_csv('Results/sample24_1.csv').head(5)"
   ]
  },
  {
   "cell_type": "code",
   "execution_count": null,
   "id": "2d60e5a2",
   "metadata": {},
   "outputs": [],
   "source": []
  },
  {
   "cell_type": "code",
   "execution_count": null,
   "id": "2ceb40dc",
   "metadata": {},
   "outputs": [],
   "source": []
  },
  {
   "cell_type": "code",
   "execution_count": null,
   "id": "c3c84d5e",
   "metadata": {},
   "outputs": [],
   "source": []
  }
 ],
 "metadata": {
  "kernelspec": {
   "display_name": "ironhack",
   "language": "python",
   "name": "ironhack"
  },
  "language_info": {
   "codemirror_mode": {
    "name": "ipython",
    "version": 3
   },
   "file_extension": ".py",
   "mimetype": "text/x-python",
   "name": "python",
   "nbconvert_exporter": "python",
   "pygments_lexer": "ipython3",
   "version": "3.8.5"
  },
  "widgets": {
   "application/vnd.jupyter.widget-state+json": {
    "state": {},
    "version_major": 2,
    "version_minor": 0
   }
  }
 },
 "nbformat": 4,
 "nbformat_minor": 5
}
